{
 "cells": [
  {
   "cell_type": "markdown",
   "id": "stone-jaguar",
   "metadata": {},
   "source": [
    "## Issues\n",
    "\n",
    "### Issues with Timestamp\n",
    "\n",
    "- 11:01:00 - 11:01:59: only the minute was recorded --> done\n",
    "- 14:20:01 - 14:40:30: the cell format is incorrect, only numerical values of a certain format are stored \n",
    "- 16:00:00 - 17:00:00: recorded in 12-hour format (e.g. 4:00:00 PM) --> DONE\n",
    "- 13:59:46: recorded twice --> done\n",
    "- 12:08:00 - 12:08:59: every other time stamp is missing --> \n",
    "\n",
    "### Issues with PVs\n",
    "\n",
    "- 12:11:01 - 12:16:06: the unit of PT102/OUT.CV changed from barg to mPa (1 barg ~~ 0.1 mPa)\n",
    "- 15:14:00 - 15:16:00: measurement error in FIC103/PID1/PV; FIC103/PID1/PV is different from FIC103/PID1/SP and FT103/OUT.CV.\n",
    "- Missing values scattered in the data: connectivity error, nan, empty cells; some values (e.g. missing value in FT104/OUT.CV can be infered from FIC104/PID1/PV)\n",
    "- Duplicated entries: \"PT101/OUT.CV\" at column E and \"Pressure measure\" at column Q"
   ]
  },
  {
   "cell_type": "code",
   "execution_count": 1,
   "id": "given-edward",
   "metadata": {},
   "outputs": [],
   "source": [
    "from pipeline.dataset import Dataset\n",
    "df_dirty = Dataset('data/real/00-complete/dirty_data.csv')"
   ]
  },
  {
   "cell_type": "code",
   "execution_count": 2,
   "id": "owned-dating",
   "metadata": {},
   "outputs": [
    {
     "data": {
      "text/plain": [
       "'%H:%M:%S'"
      ]
     },
     "execution_count": 2,
     "metadata": {},
     "output_type": "execute_result"
    }
   ],
   "source": [
    "df_dirty.infer_format()"
   ]
  },
  {
   "cell_type": "code",
   "execution_count": 3,
   "id": "civilian-facing",
   "metadata": {},
   "outputs": [
    {
     "name": "stdout",
     "output_type": "stream",
     "text": [
      "%H:%M:%S\n"
     ]
    }
   ],
   "source": [
    "print(df_dirty.time_format)"
   ]
  },
  {
   "cell_type": "code",
   "execution_count": 4,
   "id": "other-secretary",
   "metadata": {},
   "outputs": [],
   "source": [
    "df_dirty.apply_format()"
   ]
  },
  {
   "cell_type": "code",
   "execution_count": 5,
   "id": "acting-giving",
   "metadata": {},
   "outputs": [
    {
     "name": "stdout",
     "output_type": "stream",
     "text": [
      "['11:01:00' '0x0']\n",
      "Changing duplicate timestamp 11:01:00\n",
      "11:00:59\n",
      "Changing duplicate timestamp 0x0\n",
      "14:20:00\n"
     ]
    }
   ],
   "source": [
    "df_dirty.clean_stamps()"
   ]
  },
  {
   "cell_type": "code",
   "execution_count": 62,
   "id": "organized-likelihood",
   "metadata": {},
   "outputs": [],
   "source": [
    "df_dirty.df = df_dirty.df.drop_duplicates()\n",
    "df_dirty.df.reset_index(drop=True, inplace=True)"
   ]
  },
  {
   "cell_type": "code",
   "execution_count": 69,
   "id": "sonic-savage",
   "metadata": {},
   "outputs": [
    {
     "name": "stdout",
     "output_type": "stream",
     "text": [
      "['11:01:00' '0x0']\n"
     ]
    }
   ],
   "source": [
    " #Get List of all duplicated indices\n",
    "df_i_dup = df_dirty.df[df_dirty.df.duplicated(subset=['TIMESTAMP'],keep=False)]\n",
    "unique_dup = df_i_dup['TIMESTAMP'].unique() #[11:01:00, 0x0, 0x1]\n",
    "print(unique_dup)\n",
    "i=1"
   ]
  },
  {
   "cell_type": "code",
   "execution_count": 70,
   "id": "greater-annual",
   "metadata": {},
   "outputs": [],
   "source": [
    "tmp_df_i_dup = df_i_dup.loc[df_i_dup['TIMESTAMP'] == unique_dup[i]] #Get list of specific duplicated indices"
   ]
  },
  {
   "cell_type": "code",
   "execution_count": 71,
   "id": "neutral-interaction",
   "metadata": {},
   "outputs": [
    {
     "data": {
      "text/plain": [
       "1230"
      ]
     },
     "execution_count": 71,
     "metadata": {},
     "output_type": "execute_result"
    }
   ],
   "source": [
    "n = len(tmp_df_i_dup)\n",
    "n"
   ]
  },
  {
   "cell_type": "code",
   "execution_count": 72,
   "id": "advanced-winner",
   "metadata": {},
   "outputs": [
    {
     "data": {
      "text/plain": [
       "15572"
      ]
     },
     "execution_count": 72,
     "metadata": {},
     "output_type": "execute_result"
    }
   ],
   "source": [
    "dup_index = tmp_df_i_dup[~tmp_df_i_dup.duplicated(subset=['TIMESTAMP'],keep='first')].index[0]\n",
    "dup_index"
   ]
  },
  {
   "cell_type": "code",
   "execution_count": 73,
   "id": "unlike-incident",
   "metadata": {},
   "outputs": [
    {
     "data": {
      "text/html": [
       "<div>\n",
       "<style scoped>\n",
       "    .dataframe tbody tr th:only-of-type {\n",
       "        vertical-align: middle;\n",
       "    }\n",
       "\n",
       "    .dataframe tbody tr th {\n",
       "        vertical-align: top;\n",
       "    }\n",
       "\n",
       "    .dataframe thead th {\n",
       "        text-align: right;\n",
       "    }\n",
       "</style>\n",
       "<table border=\"1\" class=\"dataframe\">\n",
       "  <thead>\n",
       "    <tr style=\"text-align: right;\">\n",
       "      <th></th>\n",
       "      <th>TIMESTAMP</th>\n",
       "      <th>Sm3/h</th>\n",
       "      <th>Sm3/h.1</th>\n",
       "      <th>C</th>\n",
       "      <th>barg</th>\n",
       "      <th>kg/s</th>\n",
       "      <th>kg/s.1</th>\n",
       "      <th>C.1</th>\n",
       "      <th>kg/m3</th>\n",
       "      <th>barg.1</th>\n",
       "      <th>Unnamed: 10</th>\n",
       "      <th>Unnamed: 11</th>\n",
       "      <th>Unnamed: 12</th>\n",
       "      <th>Unnamed: 13</th>\n",
       "      <th>Unnamed: 14</th>\n",
       "      <th>Unnamed: 15</th>\n",
       "      <th>barg.2</th>\n",
       "    </tr>\n",
       "  </thead>\n",
       "  <tbody>\n",
       "    <tr>\n",
       "      <th>15572</th>\n",
       "      <td>0x0</td>\n",
       "      <td>120.419403</td>\n",
       "      <td>1.709</td>\n",
       "      <td>17.77886</td>\n",
       "      <td>1.251551</td>\n",
       "      <td>-0.001601</td>\n",
       "      <td>0.095191</td>\n",
       "      <td>23.469509</td>\n",
       "      <td>996.7639771</td>\n",
       "      <td>1.287201</td>\n",
       "      <td>0.0</td>\n",
       "      <td>0.000289</td>\n",
       "      <td>-0.001601</td>\n",
       "      <td>21.421841</td>\n",
       "      <td>0.1</td>\n",
       "      <td>0.095191</td>\n",
       "      <td>1.251551</td>\n",
       "    </tr>\n",
       "  </tbody>\n",
       "</table>\n",
       "</div>"
      ],
      "text/plain": [
       "      TIMESTAMP       Sm3/h  Sm3/h.1         C      barg      kg/s    kg/s.1  \\\n",
       "15572       0x0  120.419403    1.709  17.77886  1.251551 -0.001601  0.095191   \n",
       "\n",
       "             C.1        kg/m3    barg.1  Unnamed: 10  Unnamed: 11  \\\n",
       "15572  23.469509  996.7639771  1.287201          0.0     0.000289   \n",
       "\n",
       "       Unnamed: 12  Unnamed: 13  Unnamed: 14  Unnamed: 15    barg.2  \n",
       "15572    -0.001601    21.421841          0.1     0.095191  1.251551  "
      ]
     },
     "execution_count": 73,
     "metadata": {},
     "output_type": "execute_result"
    }
   ],
   "source": [
    "tmp_df_i_dup[~tmp_df_i_dup.duplicated(subset=['TIMESTAMP'],keep='first')]"
   ]
  },
  {
   "cell_type": "code",
   "execution_count": 75,
   "id": "constant-garlic",
   "metadata": {},
   "outputs": [
    {
     "data": {
      "text/plain": [
       "TIMESTAMP              0x0\n",
       "Sm3/h           120.419403\n",
       "Sm3/h.1              1.709\n",
       "C                 17.77886\n",
       "barg              1.251551\n",
       "kg/s             -0.001601\n",
       "kg/s.1            0.095191\n",
       "C.1              23.469509\n",
       "kg/m3          996.7639771\n",
       "barg.1            1.287201\n",
       "Unnamed: 10            0.0\n",
       "Unnamed: 11       0.000289\n",
       "Unnamed: 12      -0.001601\n",
       "Unnamed: 13      21.421841\n",
       "Unnamed: 14            0.1\n",
       "Unnamed: 15       0.095191\n",
       "barg.2            1.251551\n",
       "Name: 15572, dtype: object"
      ]
     },
     "execution_count": 75,
     "metadata": {},
     "output_type": "execute_result"
    }
   ],
   "source": [
    "df_dirty.df.iloc[dup_index]"
   ]
  },
  {
   "cell_type": "code",
   "execution_count": 12,
   "id": "caroline-difficulty",
   "metadata": {},
   "outputs": [],
   "source": [
    "from dateutil import parser\n",
    "after = df_dirty.df.iloc[dup_index+n]['TIMESTAMP']\n",
    "after = parser.parse(after)"
   ]
  },
  {
   "cell_type": "code",
   "execution_count": 14,
   "id": "hungry-orlando",
   "metadata": {},
   "outputs": [
    {
     "data": {
      "text/plain": [
       "'14:20:00'"
      ]
     },
     "execution_count": 14,
     "metadata": {},
     "output_type": "execute_result"
    }
   ],
   "source": [
    "before =df_dirty.df.iloc[dup_index-2]['TIMESTAMP']\n",
    "before"
   ]
  },
  {
   "cell_type": "code",
   "execution_count": 25,
   "id": "elementary-linux",
   "metadata": {},
   "outputs": [],
   "source": [
    "before = parser.parse(before)"
   ]
  },
  {
   "cell_type": "code",
   "execution_count": 26,
   "id": "executive-major",
   "metadata": {},
   "outputs": [],
   "source": [
    "diff = after - before"
   ]
  },
  {
   "cell_type": "code",
   "execution_count": 27,
   "id": "worse-premises",
   "metadata": {},
   "outputs": [
    {
     "data": {
      "text/plain": [
       "datetime.timedelta(seconds=1)"
      ]
     },
     "execution_count": 27,
     "metadata": {},
     "output_type": "execute_result"
    }
   ],
   "source": [
    "diff /= (n+1)\n",
    "diff"
   ]
  },
  {
   "cell_type": "code",
   "execution_count": 154,
   "id": "nuclear-fishing",
   "metadata": {},
   "outputs": [],
   "source": []
  },
  {
   "cell_type": "code",
   "execution_count": 161,
   "id": "rental-piece",
   "metadata": {},
   "outputs": [
    {
     "name": "stdout",
     "output_type": "stream",
     "text": [
      "11:00:59\n"
     ]
    },
    {
     "data": {
      "text/plain": [
       "datetime.datetime(2021, 5, 8, 11, 0, 59)"
      ]
     },
     "execution_count": 161,
     "metadata": {},
     "output_type": "execute_result"
    }
   ],
   "source": [
    "\n",
    "before_stamp"
   ]
  },
  {
   "cell_type": "code",
   "execution_count": 173,
   "id": "missing-proxy",
   "metadata": {},
   "outputs": [],
   "source": [
    "y=4"
   ]
  },
  {
   "cell_type": "code",
   "execution_count": 174,
   "id": "vocal-reduction",
   "metadata": {},
   "outputs": [
    {
     "data": {
      "text/plain": [
       "'11:01:04'"
      ]
     },
     "execution_count": 174,
     "metadata": {},
     "output_type": "execute_result"
    }
   ],
   "source": [
    "curr_stamp = before_stamp + (y+1)*diff\n",
    "#curr_stamp += diff\n",
    "curr_stamp = curr_stamp.strftime(df_dirty.time_format)\n",
    "curr_stamp"
   ]
  },
  {
   "cell_type": "code",
   "execution_count": 166,
   "id": "boring-preference",
   "metadata": {},
   "outputs": [
    {
     "name": "stdout",
     "output_type": "stream",
     "text": [
      "0:00:00\n",
      "2021-05-08 11:00:59\n"
     ]
    }
   ],
   "source": [
    "print(y*diff)\n",
    "print(before_stamp)"
   ]
  },
  {
   "cell_type": "code",
   "execution_count": 16,
   "id": "bright-vacuum",
   "metadata": {},
   "outputs": [
    {
     "data": {
      "text/plain": [
       "'F:\\\\time_series_pipeline'"
      ]
     },
     "execution_count": 16,
     "metadata": {},
     "output_type": "execute_result"
    }
   ],
   "source": [
    "import os\n",
    "cwd = os.getcwd()\n",
    "cwd"
   ]
  },
  {
   "cell_type": "code",
   "execution_count": null,
   "id": "ecological-conversation",
   "metadata": {},
   "outputs": [],
   "source": []
  },
  {
   "cell_type": "code",
   "execution_count": null,
   "id": "accurate-sleeve",
   "metadata": {},
   "outputs": [],
   "source": []
  },
  {
   "cell_type": "code",
   "execution_count": 6,
   "id": "hispanic-content",
   "metadata": {},
   "outputs": [
    {
     "ename": "NameError",
     "evalue": "name 'cwd' is not defined",
     "output_type": "error",
     "traceback": [
      "\u001b[1;31m---------------------------------------------------------------------------\u001b[0m",
      "\u001b[1;31mNameError\u001b[0m                                 Traceback (most recent call last)",
      "\u001b[1;32m<ipython-input-6-360954e46bda>\u001b[0m in \u001b[0;36m<module>\u001b[1;34m\u001b[0m\n\u001b[1;32m----> 1\u001b[1;33m \u001b[0mdf_dirty\u001b[0m\u001b[1;33m.\u001b[0m\u001b[0mdf\u001b[0m\u001b[1;33m.\u001b[0m\u001b[0mto_csv\u001b[0m\u001b[1;33m(\u001b[0m\u001b[0mcwd\u001b[0m\u001b[1;33m+\u001b[0m\u001b[1;34m'/output.csv'\u001b[0m\u001b[1;33m,\u001b[0m \u001b[0mindex\u001b[0m\u001b[1;33m=\u001b[0m\u001b[1;32mFalse\u001b[0m\u001b[1;33m)\u001b[0m\u001b[1;33m\u001b[0m\u001b[1;33m\u001b[0m\u001b[0m\n\u001b[0m\u001b[0;32m      2\u001b[0m \u001b[1;31m#df_dirty.to_csv(cwd+'/output.csv')\u001b[0m\u001b[1;33m\u001b[0m\u001b[1;33m\u001b[0m\u001b[1;33m\u001b[0m\u001b[0m\n",
      "\u001b[1;31mNameError\u001b[0m: name 'cwd' is not defined"
     ]
    }
   ],
   "source": [
    "df_dirty.df.to_csv(cwd+'/output.csv', index=False)\n",
    "#df_dirty.to_csv(cwd+'/output.csv')"
   ]
  },
  {
   "cell_type": "code",
   "execution_count": null,
   "id": "understood-expert",
   "metadata": {},
   "outputs": [],
   "source": []
  }
 ],
 "metadata": {
  "kernelspec": {
   "display_name": "Python 3",
   "language": "python",
   "name": "python3"
  },
  "language_info": {
   "codemirror_mode": {
    "name": "ipython",
    "version": 3
   },
   "file_extension": ".py",
   "mimetype": "text/x-python",
   "name": "python",
   "nbconvert_exporter": "python",
   "pygments_lexer": "ipython3",
   "version": "3.8.8"
  }
 },
 "nbformat": 4,
 "nbformat_minor": 5
}
