{
 "cells": [
  {
   "cell_type": "code",
   "execution_count": 2,
   "id": "temporal-criterion",
   "metadata": {},
   "outputs": [],
   "source": [
    "from pipeline.dataset import Dataset\n",
    "from pipeline.outlier import high_correlators\n",
    "df_dirty = Dataset('../data/example/partial_noise/sample-00fdefca-c088-4a3f-a92d-386475b39a66/data.csv')"
   ]
  },
  {
   "cell_type": "code",
   "execution_count": 4,
   "id": "defensive-establishment",
   "metadata": {},
   "outputs": [
    {
     "data": {
      "text/html": [
       "<div>\n",
       "<style scoped>\n",
       "    .dataframe tbody tr th:only-of-type {\n",
       "        vertical-align: middle;\n",
       "    }\n",
       "\n",
       "    .dataframe tbody tr th {\n",
       "        vertical-align: top;\n",
       "    }\n",
       "\n",
       "    .dataframe thead th {\n",
       "        text-align: right;\n",
       "    }\n",
       "</style>\n",
       "<table border=\"1\" class=\"dataframe\">\n",
       "  <thead>\n",
       "    <tr style=\"text-align: right;\">\n",
       "      <th></th>\n",
       "      <th>time1</th>\n",
       "      <th>signal1</th>\n",
       "    </tr>\n",
       "  </thead>\n",
       "  <tbody>\n",
       "    <tr>\n",
       "      <th>0</th>\n",
       "      <td>1980-04-04 16:28:38</td>\n",
       "      <td>0.0</td>\n",
       "    </tr>\n",
       "    <tr>\n",
       "      <th>1</th>\n",
       "      <td>1980-04-04 16:28:39</td>\n",
       "      <td>0.0</td>\n",
       "    </tr>\n",
       "    <tr>\n",
       "      <th>2</th>\n",
       "      <td>1980-04-04 16:28:40</td>\n",
       "      <td>0.0</td>\n",
       "    </tr>\n",
       "    <tr>\n",
       "      <th>3</th>\n",
       "      <td>1980-04-04 16:28:41</td>\n",
       "      <td>0.0</td>\n",
       "    </tr>\n",
       "    <tr>\n",
       "      <th>4</th>\n",
       "      <td>1980-04-04 16:28:42</td>\n",
       "      <td>0.0</td>\n",
       "    </tr>\n",
       "    <tr>\n",
       "      <th>...</th>\n",
       "      <td>...</td>\n",
       "      <td>...</td>\n",
       "    </tr>\n",
       "    <tr>\n",
       "      <th>53549</th>\n",
       "      <td>1980-04-05 07:21:07</td>\n",
       "      <td>0.0</td>\n",
       "    </tr>\n",
       "    <tr>\n",
       "      <th>53550</th>\n",
       "      <td>1980-04-05 07:21:08</td>\n",
       "      <td>0.0</td>\n",
       "    </tr>\n",
       "    <tr>\n",
       "      <th>53551</th>\n",
       "      <td>1980-04-05 07:21:09</td>\n",
       "      <td>0.0</td>\n",
       "    </tr>\n",
       "    <tr>\n",
       "      <th>53552</th>\n",
       "      <td>1980-04-05 07:21:10</td>\n",
       "      <td>0.0</td>\n",
       "    </tr>\n",
       "    <tr>\n",
       "      <th>53553</th>\n",
       "      <td>1980-04-05 07:21:11</td>\n",
       "      <td>0.0</td>\n",
       "    </tr>\n",
       "  </tbody>\n",
       "</table>\n",
       "<p>53554 rows × 2 columns</p>\n",
       "</div>"
      ],
      "text/plain": [
       "                     time1  signal1\n",
       "0      1980-04-04 16:28:38      0.0\n",
       "1      1980-04-04 16:28:39      0.0\n",
       "2      1980-04-04 16:28:40      0.0\n",
       "3      1980-04-04 16:28:41      0.0\n",
       "4      1980-04-04 16:28:42      0.0\n",
       "...                    ...      ...\n",
       "53549  1980-04-05 07:21:07      0.0\n",
       "53550  1980-04-05 07:21:08      0.0\n",
       "53551  1980-04-05 07:21:09      0.0\n",
       "53552  1980-04-05 07:21:10      0.0\n",
       "53553  1980-04-05 07:21:11      0.0\n",
       "\n",
       "[53554 rows x 2 columns]"
      ]
     },
     "execution_count": 4,
     "metadata": {},
     "output_type": "execute_result"
    }
   ],
   "source": [
    "df_dirty.df"
   ]
  },
  {
   "cell_type": "code",
   "execution_count": 5,
   "id": "occupied-clark",
   "metadata": {},
   "outputs": [],
   "source": [
    "df_dirty.scan_columns()"
   ]
  },
  {
   "cell_type": "code",
   "execution_count": 6,
   "id": "formal-airplane",
   "metadata": {},
   "outputs": [
    {
     "data": {
      "text/plain": [
       "'%H:%M:%S'"
      ]
     },
     "execution_count": 6,
     "metadata": {},
     "output_type": "execute_result"
    }
   ],
   "source": [
    "df_dirty.infer_format()\n"
   ]
  },
  {
   "cell_type": "code",
   "execution_count": 7,
   "id": "fatal-toner",
   "metadata": {
    "scrolled": true
   },
   "outputs": [
    {
     "name": "stdout",
     "output_type": "stream",
     "text": [
      "[]\n"
     ]
    }
   ],
   "source": [
    "df_dirty.apply_format()\n",
    "df_dirty.clean_stamps()"
   ]
  },
  {
   "cell_type": "code",
   "execution_count": 8,
   "id": "rapid-highland",
   "metadata": {
    "scrolled": true
   },
   "outputs": [
    {
     "name": "stdout",
     "output_type": "stream",
     "text": [
      "Index already datetime\n",
      "0 days 00:00:01      53552\n",
      "-1 days +00:00:01        1\n",
      "Name: time1, dtype: int64\n",
      "Median: 0 days 00:00:01\n",
      "0 rows were added due to resampling\n",
      "Before interpolation 0 rows contain nan values\n",
      "After interpolation 0 rows contain nan values\n"
     ]
    }
   ],
   "source": [
    "df_dirty.time_as_index()\n",
    "df_dirty.resample()\n",
    "df_dirty.convert_na()\n",
    "df_dirty.interpolate()\n",
    "df_dirty.drop_dup_cols()"
   ]
  },
  {
   "cell_type": "code",
   "execution_count": 9,
   "id": "phantom-momentum",
   "metadata": {},
   "outputs": [
    {
     "data": {
      "text/html": [
       "<div>\n",
       "<style scoped>\n",
       "    .dataframe tbody tr th:only-of-type {\n",
       "        vertical-align: middle;\n",
       "    }\n",
       "\n",
       "    .dataframe tbody tr th {\n",
       "        vertical-align: top;\n",
       "    }\n",
       "\n",
       "    .dataframe thead th {\n",
       "        text-align: right;\n",
       "    }\n",
       "</style>\n",
       "<table border=\"1\" class=\"dataframe\">\n",
       "  <thead>\n",
       "    <tr style=\"text-align: right;\">\n",
       "      <th></th>\n",
       "      <th>signal1</th>\n",
       "    </tr>\n",
       "  </thead>\n",
       "  <tbody>\n",
       "    <tr>\n",
       "      <th>2021-05-11 00:00:00</th>\n",
       "      <td>391.050809</td>\n",
       "    </tr>\n",
       "    <tr>\n",
       "      <th>2021-05-11 00:00:01</th>\n",
       "      <td>372.570657</td>\n",
       "    </tr>\n",
       "    <tr>\n",
       "      <th>2021-05-11 00:00:02</th>\n",
       "      <td>518.230992</td>\n",
       "    </tr>\n",
       "    <tr>\n",
       "      <th>2021-05-11 00:00:03</th>\n",
       "      <td>429.988277</td>\n",
       "    </tr>\n",
       "    <tr>\n",
       "      <th>2021-05-11 00:00:04</th>\n",
       "      <td>419.222010</td>\n",
       "    </tr>\n",
       "    <tr>\n",
       "      <th>...</th>\n",
       "      <td>...</td>\n",
       "    </tr>\n",
       "    <tr>\n",
       "      <th>2021-05-11 23:59:55</th>\n",
       "      <td>323.126994</td>\n",
       "    </tr>\n",
       "    <tr>\n",
       "      <th>2021-05-11 23:59:56</th>\n",
       "      <td>550.264866</td>\n",
       "    </tr>\n",
       "    <tr>\n",
       "      <th>2021-05-11 23:59:57</th>\n",
       "      <td>452.680561</td>\n",
       "    </tr>\n",
       "    <tr>\n",
       "      <th>2021-05-11 23:59:58</th>\n",
       "      <td>399.429764</td>\n",
       "    </tr>\n",
       "    <tr>\n",
       "      <th>2021-05-11 23:59:59</th>\n",
       "      <td>564.922177</td>\n",
       "    </tr>\n",
       "  </tbody>\n",
       "</table>\n",
       "<p>53554 rows × 1 columns</p>\n",
       "</div>"
      ],
      "text/plain": [
       "                        signal1\n",
       "2021-05-11 00:00:00  391.050809\n",
       "2021-05-11 00:00:01  372.570657\n",
       "2021-05-11 00:00:02  518.230992\n",
       "2021-05-11 00:00:03  429.988277\n",
       "2021-05-11 00:00:04  419.222010\n",
       "...                         ...\n",
       "2021-05-11 23:59:55  323.126994\n",
       "2021-05-11 23:59:56  550.264866\n",
       "2021-05-11 23:59:57  452.680561\n",
       "2021-05-11 23:59:58  399.429764\n",
       "2021-05-11 23:59:59  564.922177\n",
       "\n",
       "[53554 rows x 1 columns]"
      ]
     },
     "execution_count": 9,
     "metadata": {},
     "output_type": "execute_result"
    }
   ],
   "source": [
    "df_dirty.df"
   ]
  },
  {
   "cell_type": "code",
   "execution_count": 10,
   "id": "operating-circumstances",
   "metadata": {},
   "outputs": [
    {
     "data": {
      "image/png": "[encoded data removed]",
      "text/plain": [
       "<Figure size 432x288 with 1 Axes>"
      ]
     },
     "metadata": {
      "needs_background": "light"
     },
     "output_type": "display_data"
    }
   ],
   "source": [
    "df_dirty.show_univariate_outliers('signal1')"
   ]
  },
  {
   "cell_type": "code",
   "execution_count": 11,
   "id": "smart-complex",
   "metadata": {},
   "outputs": [
    {
     "name": "stdout",
     "output_type": "stream",
     "text": [
      "Cleaning 1 outliers\n",
      "Before interpolation 1 rows contain nan values\n",
      "After interpolation 0 rows contain nan values\n"
     ]
    },
    {
     "data": {
      "image/png": "[encoded data removed]",
      "text/plain": [
       "<Figure size 432x288 with 1 Axes>"
      ]
     },
     "metadata": {
      "needs_background": "light"
     },
     "output_type": "display_data"
    }
   ],
   "source": [
    "df_dirty.clean_flagged_outliers('signal1', mode='all')"
   ]
  },
  {
   "cell_type": "code",
   "execution_count": 7,
   "id": "covered-bundle",
   "metadata": {},
   "outputs": [],
   "source": [
    "import os\n",
    "cwd = os.getcwd()\n",
    "cwd\n",
    "df_dirty.to_csv(cwd+'/output.csv',index=True)"
   ]
  }
 ],
 "metadata": {
  "kernelspec": {
   "display_name": "Python 3",
   "language": "python",
   "name": "python3"
  },
  "language_info": {
   "codemirror_mode": {
    "name": "ipython",
    "version": 3
   },
   "file_extension": ".py",
   "mimetype": "text/x-python",
   "name": "python",
   "nbconvert_exporter": "python",
   "pygments_lexer": "ipython3",
   "version": "3.8.8"
  }
 },
 "nbformat": 4,
 "nbformat_minor": 5
}
