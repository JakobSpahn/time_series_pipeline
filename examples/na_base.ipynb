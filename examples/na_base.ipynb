{
 "cells": [
  {
   "cell_type": "code",
   "execution_count": 1,
   "id": "temporal-criterion",
   "metadata": {},
   "outputs": [],
   "source": [
    "from pipeline.dataset import Dataset\n",
    "from pipeline.outlier import high_correlators\n",
    "df_dirty = Dataset('../data/example/na_base/sample-00fcc914-bd93-4939-8e92-dd022b072b4c/data.csv')"
   ]
  },
  {
   "cell_type": "code",
   "execution_count": 2,
   "id": "defensive-establishment",
   "metadata": {},
   "outputs": [
    {
     "data": {
      "text/html": [
       "<div>\n",
       "<style scoped>\n",
       "    .dataframe tbody tr th:only-of-type {\n",
       "        vertical-align: middle;\n",
       "    }\n",
       "\n",
       "    .dataframe tbody tr th {\n",
       "        vertical-align: top;\n",
       "    }\n",
       "\n",
       "    .dataframe thead th {\n",
       "        text-align: right;\n",
       "    }\n",
       "</style>\n",
       "<table border=\"1\" class=\"dataframe\">\n",
       "  <thead>\n",
       "    <tr style=\"text-align: right;\">\n",
       "      <th></th>\n",
       "      <th>time1</th>\n",
       "      <th>signal1</th>\n",
       "    </tr>\n",
       "  </thead>\n",
       "  <tbody>\n",
       "    <tr>\n",
       "      <th>0</th>\n",
       "      <td>1996-07-05 03:11:02</td>\n",
       "      <td>-1.912709</td>\n",
       "    </tr>\n",
       "    <tr>\n",
       "      <th>1</th>\n",
       "      <td>1996-07-05 03:12:02</td>\n",
       "      <td>2.519109</td>\n",
       "    </tr>\n",
       "    <tr>\n",
       "      <th>2</th>\n",
       "      <td>1996-07-05 03:13:02</td>\n",
       "      <td>0.938433</td>\n",
       "    </tr>\n",
       "    <tr>\n",
       "      <th>3</th>\n",
       "      <td>1996-07-05 03:14:02</td>\n",
       "      <td>-0.326580</td>\n",
       "    </tr>\n",
       "    <tr>\n",
       "      <th>4</th>\n",
       "      <td>1996-07-05 03:15:02</td>\n",
       "      <td>0.476502</td>\n",
       "    </tr>\n",
       "    <tr>\n",
       "      <th>...</th>\n",
       "      <td>...</td>\n",
       "      <td>...</td>\n",
       "    </tr>\n",
       "    <tr>\n",
       "      <th>3706</th>\n",
       "      <td>1996-07-07 16:57:02</td>\n",
       "      <td>-2.269607</td>\n",
       "    </tr>\n",
       "    <tr>\n",
       "      <th>3707</th>\n",
       "      <td>1996-07-07 16:58:02</td>\n",
       "      <td>-0.489084</td>\n",
       "    </tr>\n",
       "    <tr>\n",
       "      <th>3708</th>\n",
       "      <td>1996-07-07 16:59:02</td>\n",
       "      <td>0.148433</td>\n",
       "    </tr>\n",
       "    <tr>\n",
       "      <th>3709</th>\n",
       "      <td>1996-07-07 17:00:02</td>\n",
       "      <td>0.553048</td>\n",
       "    </tr>\n",
       "    <tr>\n",
       "      <th>3710</th>\n",
       "      <td>1996-07-07 17:01:02</td>\n",
       "      <td>0.548112</td>\n",
       "    </tr>\n",
       "  </tbody>\n",
       "</table>\n",
       "<p>3711 rows × 2 columns</p>\n",
       "</div>"
      ],
      "text/plain": [
       "                    time1   signal1\n",
       "0     1996-07-05 03:11:02 -1.912709\n",
       "1     1996-07-05 03:12:02  2.519109\n",
       "2     1996-07-05 03:13:02  0.938433\n",
       "3     1996-07-05 03:14:02 -0.326580\n",
       "4     1996-07-05 03:15:02  0.476502\n",
       "...                   ...       ...\n",
       "3706  1996-07-07 16:57:02 -2.269607\n",
       "3707  1996-07-07 16:58:02 -0.489084\n",
       "3708  1996-07-07 16:59:02  0.148433\n",
       "3709  1996-07-07 17:00:02  0.553048\n",
       "3710  1996-07-07 17:01:02  0.548112\n",
       "\n",
       "[3711 rows x 2 columns]"
      ]
     },
     "execution_count": 2,
     "metadata": {},
     "output_type": "execute_result"
    }
   ],
   "source": [
    "df_dirty.df"
   ]
  },
  {
   "cell_type": "code",
   "execution_count": 3,
   "id": "occupied-clark",
   "metadata": {},
   "outputs": [],
   "source": [
    "df_dirty.scan_columns()"
   ]
  },
  {
   "cell_type": "code",
   "execution_count": 4,
   "id": "formal-airplane",
   "metadata": {},
   "outputs": [
    {
     "data": {
      "text/plain": [
       "'%Y-%m-%d %H:%M:%S'"
      ]
     },
     "execution_count": 4,
     "metadata": {},
     "output_type": "execute_result"
    }
   ],
   "source": [
    "df_dirty.infer_format()\n"
   ]
  },
  {
   "cell_type": "code",
   "execution_count": 5,
   "id": "fatal-toner",
   "metadata": {
    "scrolled": true
   },
   "outputs": [
    {
     "name": "stdout",
     "output_type": "stream",
     "text": [
      "[]\n"
     ]
    }
   ],
   "source": [
    "df_dirty.apply_format()\n",
    "df_dirty.clean_stamps()"
   ]
  },
  {
   "cell_type": "code",
   "execution_count": 6,
   "id": "rapid-highland",
   "metadata": {
    "scrolled": true
   },
   "outputs": [
    {
     "name": "stdout",
     "output_type": "stream",
     "text": [
      "Index already datetime\n",
      "0 days 00:01:00    3710\n",
      "Name: time1, dtype: int64\n",
      "Median: 0 days 00:01:00\n",
      "94 rows were added due to resampling\n",
      "Before interpolation 94 rows contain nan values\n",
      "After interpolation 0 rows contain nan values\n"
     ]
    }
   ],
   "source": [
    "df_dirty.time_as_index()\n",
    "df_dirty.resample()\n",
    "df_dirty.convert_na()\n",
    "df_dirty.interpolate()\n",
    "df_dirty.drop_dup_cols()"
   ]
  },
  {
   "cell_type": "code",
   "execution_count": 7,
   "id": "phantom-momentum",
   "metadata": {},
   "outputs": [
    {
     "data": {
      "text/html": [
       "<div>\n",
       "<style scoped>\n",
       "    .dataframe tbody tr th:only-of-type {\n",
       "        vertical-align: middle;\n",
       "    }\n",
       "\n",
       "    .dataframe tbody tr th {\n",
       "        vertical-align: top;\n",
       "    }\n",
       "\n",
       "    .dataframe thead th {\n",
       "        text-align: right;\n",
       "    }\n",
       "</style>\n",
       "<table border=\"1\" class=\"dataframe\">\n",
       "  <thead>\n",
       "    <tr style=\"text-align: right;\">\n",
       "      <th></th>\n",
       "      <th>signal1</th>\n",
       "    </tr>\n",
       "  </thead>\n",
       "  <tbody>\n",
       "    <tr>\n",
       "      <th>1996-07-05 03:11:02</th>\n",
       "      <td>-1.912709</td>\n",
       "    </tr>\n",
       "    <tr>\n",
       "      <th>1996-07-05 03:12:02</th>\n",
       "      <td>2.519109</td>\n",
       "    </tr>\n",
       "    <tr>\n",
       "      <th>1996-07-05 03:13:02</th>\n",
       "      <td>0.938433</td>\n",
       "    </tr>\n",
       "    <tr>\n",
       "      <th>1996-07-05 03:14:02</th>\n",
       "      <td>-0.326580</td>\n",
       "    </tr>\n",
       "    <tr>\n",
       "      <th>1996-07-05 03:15:02</th>\n",
       "      <td>0.476502</td>\n",
       "    </tr>\n",
       "    <tr>\n",
       "      <th>...</th>\n",
       "      <td>...</td>\n",
       "    </tr>\n",
       "    <tr>\n",
       "      <th>1996-07-07 16:57:02</th>\n",
       "      <td>-2.269607</td>\n",
       "    </tr>\n",
       "    <tr>\n",
       "      <th>1996-07-07 16:58:02</th>\n",
       "      <td>-0.489084</td>\n",
       "    </tr>\n",
       "    <tr>\n",
       "      <th>1996-07-07 16:59:02</th>\n",
       "      <td>0.148433</td>\n",
       "    </tr>\n",
       "    <tr>\n",
       "      <th>1996-07-07 17:00:02</th>\n",
       "      <td>0.553048</td>\n",
       "    </tr>\n",
       "    <tr>\n",
       "      <th>1996-07-07 17:01:02</th>\n",
       "      <td>0.548112</td>\n",
       "    </tr>\n",
       "  </tbody>\n",
       "</table>\n",
       "<p>3711 rows × 1 columns</p>\n",
       "</div>"
      ],
      "text/plain": [
       "                      signal1\n",
       "1996-07-05 03:11:02 -1.912709\n",
       "1996-07-05 03:12:02  2.519109\n",
       "1996-07-05 03:13:02  0.938433\n",
       "1996-07-05 03:14:02 -0.326580\n",
       "1996-07-05 03:15:02  0.476502\n",
       "...                       ...\n",
       "1996-07-07 16:57:02 -2.269607\n",
       "1996-07-07 16:58:02 -0.489084\n",
       "1996-07-07 16:59:02  0.148433\n",
       "1996-07-07 17:00:02  0.553048\n",
       "1996-07-07 17:01:02  0.548112\n",
       "\n",
       "[3711 rows x 1 columns]"
      ]
     },
     "execution_count": 7,
     "metadata": {},
     "output_type": "execute_result"
    }
   ],
   "source": [
    "df_dirty.df"
   ]
  },
  {
   "cell_type": "code",
   "execution_count": 7,
   "id": "covered-bundle",
   "metadata": {},
   "outputs": [],
   "source": [
    "import os\n",
    "cwd = os.getcwd()\n",
    "cwd\n",
    "df_dirty.to_csv(cwd+'/output.csv',index=True)"
   ]
  },
  {
   "cell_type": "code",
   "execution_count": 9,
   "id": "framed-memphis",
   "metadata": {},
   "outputs": [
    {
     "data": {
      "text/plain": [
       "33"
      ]
     },
     "execution_count": 9,
     "metadata": {},
     "output_type": "execute_result"
    }
   ],
   "source": [
    "len([8, 42, 145, 210, 270, 485, 645, 807, 993, 1006, 1010, 1200, 1496, 1560, 1673, 1743, 2073, 2113, 2437, 2555, 2571, 2582, 2655, 2745, 2845, 2948, 3062, 3085, 3389, 3445, 3484, 3491, 3616])"
   ]
  }
 ],
 "metadata": {
  "kernelspec": {
   "display_name": "Python 3",
   "language": "python",
   "name": "python3"
  },
  "language_info": {
   "codemirror_mode": {
    "name": "ipython",
    "version": 3
   },
   "file_extension": ".py",
   "mimetype": "text/x-python",
   "name": "python",
   "nbconvert_exporter": "python",
   "pygments_lexer": "ipython3",
   "version": "3.8.8"
  }
 },
 "nbformat": 4,
 "nbformat_minor": 5
}
