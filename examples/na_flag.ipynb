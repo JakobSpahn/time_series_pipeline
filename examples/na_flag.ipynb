{
 "cells": [
  {
   "cell_type": "code",
   "execution_count": 1,
   "id": "temporal-criterion",
   "metadata": {},
   "outputs": [],
   "source": [
    "from pipeline.dataset import Dataset\n",
    "from pipeline.outlier import high_correlators\n",
    "df_dirty = Dataset('../data/example/na_flag/sample-0b08f062-6e23-4003-8a36-7435a63e62a4/data.csv')"
   ]
  },
  {
   "cell_type": "code",
   "execution_count": 2,
   "id": "defensive-establishment",
   "metadata": {},
   "outputs": [
    {
     "data": {
      "text/html": [
       "<div>\n",
       "<style scoped>\n",
       "    .dataframe tbody tr th:only-of-type {\n",
       "        vertical-align: middle;\n",
       "    }\n",
       "\n",
       "    .dataframe tbody tr th {\n",
       "        vertical-align: top;\n",
       "    }\n",
       "\n",
       "    .dataframe thead th {\n",
       "        text-align: right;\n",
       "    }\n",
       "</style>\n",
       "<table border=\"1\" class=\"dataframe\">\n",
       "  <thead>\n",
       "    <tr style=\"text-align: right;\">\n",
       "      <th></th>\n",
       "      <th>time1</th>\n",
       "      <th>signal1</th>\n",
       "      <th>quality1</th>\n",
       "    </tr>\n",
       "  </thead>\n",
       "  <tbody>\n",
       "    <tr>\n",
       "      <th>0</th>\n",
       "      <td>2004-01-29 01:55:20</td>\n",
       "      <td>1.363674</td>\n",
       "      <td>NaN</td>\n",
       "    </tr>\n",
       "    <tr>\n",
       "      <th>1</th>\n",
       "      <td>2004-01-29 01:55:24</td>\n",
       "      <td>-0.124307</td>\n",
       "      <td>NaN</td>\n",
       "    </tr>\n",
       "    <tr>\n",
       "      <th>2</th>\n",
       "      <td>2004-01-29 01:55:28</td>\n",
       "      <td>-0.835057</td>\n",
       "      <td>NaN</td>\n",
       "    </tr>\n",
       "    <tr>\n",
       "      <th>3</th>\n",
       "      <td>2004-01-29 01:55:32</td>\n",
       "      <td>1.800508</td>\n",
       "      <td>NaN</td>\n",
       "    </tr>\n",
       "    <tr>\n",
       "      <th>4</th>\n",
       "      <td>2004-01-29 01:55:36</td>\n",
       "      <td>-2.610423</td>\n",
       "      <td>NaN</td>\n",
       "    </tr>\n",
       "    <tr>\n",
       "      <th>...</th>\n",
       "      <td>...</td>\n",
       "      <td>...</td>\n",
       "      <td>...</td>\n",
       "    </tr>\n",
       "    <tr>\n",
       "      <th>95765</th>\n",
       "      <td>2004-02-02 12:19:40</td>\n",
       "      <td>7.411989</td>\n",
       "      <td>NaN</td>\n",
       "    </tr>\n",
       "    <tr>\n",
       "      <th>95766</th>\n",
       "      <td>2004-02-02 12:19:44</td>\n",
       "      <td>6.272465</td>\n",
       "      <td>NaN</td>\n",
       "    </tr>\n",
       "    <tr>\n",
       "      <th>95767</th>\n",
       "      <td>2004-02-02 12:19:48</td>\n",
       "      <td>-2.993043</td>\n",
       "      <td>NaN</td>\n",
       "    </tr>\n",
       "    <tr>\n",
       "      <th>95768</th>\n",
       "      <td>2004-02-02 12:19:52</td>\n",
       "      <td>5.784804</td>\n",
       "      <td>NaN</td>\n",
       "    </tr>\n",
       "    <tr>\n",
       "      <th>95769</th>\n",
       "      <td>2004-02-02 12:19:56</td>\n",
       "      <td>-0.763323</td>\n",
       "      <td>NaN</td>\n",
       "    </tr>\n",
       "  </tbody>\n",
       "</table>\n",
       "<p>95770 rows × 3 columns</p>\n",
       "</div>"
      ],
      "text/plain": [
       "                     time1   signal1 quality1\n",
       "0      2004-01-29 01:55:20  1.363674      NaN\n",
       "1      2004-01-29 01:55:24 -0.124307      NaN\n",
       "2      2004-01-29 01:55:28 -0.835057      NaN\n",
       "3      2004-01-29 01:55:32  1.800508      NaN\n",
       "4      2004-01-29 01:55:36 -2.610423      NaN\n",
       "...                    ...       ...      ...\n",
       "95765  2004-02-02 12:19:40  7.411989      NaN\n",
       "95766  2004-02-02 12:19:44  6.272465      NaN\n",
       "95767  2004-02-02 12:19:48 -2.993043      NaN\n",
       "95768  2004-02-02 12:19:52  5.784804      NaN\n",
       "95769  2004-02-02 12:19:56 -0.763323      NaN\n",
       "\n",
       "[95770 rows x 3 columns]"
      ]
     },
     "execution_count": 2,
     "metadata": {},
     "output_type": "execute_result"
    }
   ],
   "source": [
    "df_dirty.df"
   ]
  },
  {
   "cell_type": "code",
   "execution_count": 3,
   "id": "occupied-clark",
   "metadata": {},
   "outputs": [
    {
     "name": "stdout",
     "output_type": "stream",
     "text": [
      "Found column 'quality1' which belongs to 'signal1' and indicates missing values\n",
      "Column: 'signal1': 59 values have been replaced with nan\n",
      "Dropped column 'quality1'\n"
     ]
    },
    {
     "name": "stderr",
     "output_type": "stream",
     "text": [
      "C:\\Users\\worf9_000\\anaconda3\\envs\\tf-gpu\\lib\\site-packages\\pandas\\core\\indexing.py:1637: SettingWithCopyWarning: \n",
      "A value is trying to be set on a copy of a slice from a DataFrame\n",
      "\n",
      "See the caveats in the documentation: https://pandas.pydata.org/pandas-docs/stable/user_guide/indexing.html#returning-a-view-versus-a-copy\n",
      "  self._setitem_single_block(indexer, value, name)\n"
     ]
    }
   ],
   "source": [
    "df_dirty.scan_columns()"
   ]
  },
  {
   "cell_type": "code",
   "execution_count": 4,
   "id": "formal-airplane",
   "metadata": {},
   "outputs": [
    {
     "data": {
      "text/plain": [
       "'%Y-%m-%d %H:%M:%S'"
      ]
     },
     "execution_count": 4,
     "metadata": {},
     "output_type": "execute_result"
    }
   ],
   "source": [
    "df_dirty.infer_format()\n"
   ]
  },
  {
   "cell_type": "code",
   "execution_count": 5,
   "id": "fatal-toner",
   "metadata": {
    "scrolled": true
   },
   "outputs": [
    {
     "name": "stdout",
     "output_type": "stream",
     "text": [
      "[]\n"
     ]
    }
   ],
   "source": [
    "df_dirty.apply_format()\n",
    "df_dirty.clean_stamps()"
   ]
  },
  {
   "cell_type": "code",
   "execution_count": 6,
   "id": "rapid-highland",
   "metadata": {
    "scrolled": true
   },
   "outputs": [
    {
     "name": "stdout",
     "output_type": "stream",
     "text": [
      "Index already datetime\n",
      "0 days 00:00:04    95769\n",
      "Name: time1, dtype: int64\n",
      "Median: 0 days 00:00:04\n",
      "59 rows were added due to resampling\n",
      "Before interpolation 59 rows contain nan values\n",
      "After interpolation 0 rows contain nan values\n"
     ]
    }
   ],
   "source": [
    "df_dirty.time_as_index()\n",
    "df_dirty.resample()\n",
    "df_dirty.convert_na()\n",
    "df_dirty.interpolate()\n",
    "df_dirty.drop_dup_cols()"
   ]
  },
  {
   "cell_type": "code",
   "execution_count": 7,
   "id": "phantom-momentum",
   "metadata": {},
   "outputs": [
    {
     "data": {
      "text/html": [
       "<div>\n",
       "<style scoped>\n",
       "    .dataframe tbody tr th:only-of-type {\n",
       "        vertical-align: middle;\n",
       "    }\n",
       "\n",
       "    .dataframe tbody tr th {\n",
       "        vertical-align: top;\n",
       "    }\n",
       "\n",
       "    .dataframe thead th {\n",
       "        text-align: right;\n",
       "    }\n",
       "</style>\n",
       "<table border=\"1\" class=\"dataframe\">\n",
       "  <thead>\n",
       "    <tr style=\"text-align: right;\">\n",
       "      <th></th>\n",
       "      <th>signal1</th>\n",
       "    </tr>\n",
       "  </thead>\n",
       "  <tbody>\n",
       "    <tr>\n",
       "      <th>2004-01-29 01:55:20</th>\n",
       "      <td>1.363674</td>\n",
       "    </tr>\n",
       "    <tr>\n",
       "      <th>2004-01-29 01:55:24</th>\n",
       "      <td>-0.124307</td>\n",
       "    </tr>\n",
       "    <tr>\n",
       "      <th>2004-01-29 01:55:28</th>\n",
       "      <td>-0.835057</td>\n",
       "    </tr>\n",
       "    <tr>\n",
       "      <th>2004-01-29 01:55:32</th>\n",
       "      <td>1.800508</td>\n",
       "    </tr>\n",
       "    <tr>\n",
       "      <th>2004-01-29 01:55:36</th>\n",
       "      <td>-2.610423</td>\n",
       "    </tr>\n",
       "    <tr>\n",
       "      <th>...</th>\n",
       "      <td>...</td>\n",
       "    </tr>\n",
       "    <tr>\n",
       "      <th>2004-02-02 12:19:40</th>\n",
       "      <td>7.411989</td>\n",
       "    </tr>\n",
       "    <tr>\n",
       "      <th>2004-02-02 12:19:44</th>\n",
       "      <td>6.272465</td>\n",
       "    </tr>\n",
       "    <tr>\n",
       "      <th>2004-02-02 12:19:48</th>\n",
       "      <td>-2.993043</td>\n",
       "    </tr>\n",
       "    <tr>\n",
       "      <th>2004-02-02 12:19:52</th>\n",
       "      <td>5.784804</td>\n",
       "    </tr>\n",
       "    <tr>\n",
       "      <th>2004-02-02 12:19:56</th>\n",
       "      <td>-0.763323</td>\n",
       "    </tr>\n",
       "  </tbody>\n",
       "</table>\n",
       "<p>95770 rows × 1 columns</p>\n",
       "</div>"
      ],
      "text/plain": [
       "                      signal1\n",
       "2004-01-29 01:55:20  1.363674\n",
       "2004-01-29 01:55:24 -0.124307\n",
       "2004-01-29 01:55:28 -0.835057\n",
       "2004-01-29 01:55:32  1.800508\n",
       "2004-01-29 01:55:36 -2.610423\n",
       "...                       ...\n",
       "2004-02-02 12:19:40  7.411989\n",
       "2004-02-02 12:19:44  6.272465\n",
       "2004-02-02 12:19:48 -2.993043\n",
       "2004-02-02 12:19:52  5.784804\n",
       "2004-02-02 12:19:56 -0.763323\n",
       "\n",
       "[95770 rows x 1 columns]"
      ]
     },
     "execution_count": 7,
     "metadata": {},
     "output_type": "execute_result"
    }
   ],
   "source": [
    "df_dirty.df"
   ]
  },
  {
   "cell_type": "code",
   "execution_count": 7,
   "id": "covered-bundle",
   "metadata": {},
   "outputs": [],
   "source": [
    "import os\n",
    "cwd = os.getcwd()\n",
    "cwd\n",
    "df_dirty.to_csv(cwd+'/output.csv',index=True)"
   ]
  },
  {
   "cell_type": "code",
   "execution_count": 16,
   "id": "framed-memphis",
   "metadata": {},
   "outputs": [],
   "source": [
    "vals = df_dirty.quality_flags['signal1'].to_numpy()"
   ]
  },
  {
   "cell_type": "code",
   "execution_count": 24,
   "id": "empty-keyboard",
   "metadata": {},
   "outputs": [
    {
     "name": "stdout",
     "output_type": "stream",
     "text": [
      "error\n",
      "15201\n",
      "error\n",
      "15202\n",
      "error\n",
      "15203\n",
      "error\n",
      "15204\n",
      "error\n",
      "15205\n",
      "error\n",
      "18762\n",
      "error\n",
      "18763\n",
      "error\n",
      "18764\n",
      "error\n",
      "18765\n",
      "error\n",
      "18776\n",
      "error\n",
      "18777\n",
      "error\n",
      "18778\n",
      "error\n",
      "18779\n",
      "error\n",
      "23978\n",
      "error\n",
      "23979\n",
      "error\n",
      "23980\n",
      "error\n",
      "24992\n",
      "error\n",
      "24993\n",
      "error\n",
      "24994\n",
      "error\n",
      "27046\n",
      "error\n",
      "27047\n",
      "error\n",
      "27048\n",
      "error\n",
      "27049\n",
      "error\n",
      "27050\n",
      "error\n",
      "28138\n",
      "error\n",
      "28139\n",
      "error\n",
      "28140\n",
      "error\n",
      "32694\n",
      "error\n",
      "33565\n",
      "error\n",
      "33566\n",
      "error\n",
      "33567\n",
      "error\n",
      "33568\n",
      "error\n",
      "33569\n",
      "error\n",
      "37973\n",
      "error\n",
      "37974\n",
      "error\n",
      "37975\n",
      "error\n",
      "37976\n",
      "error\n",
      "39694\n",
      "error\n",
      "39695\n",
      "error\n",
      "67060\n",
      "error\n",
      "67061\n",
      "error\n",
      "67062\n",
      "error\n",
      "67063\n",
      "error\n",
      "67389\n",
      "error\n",
      "67390\n",
      "error\n",
      "67602\n",
      "error\n",
      "67603\n",
      "error\n",
      "67604\n",
      "error\n",
      "67605\n",
      "error\n",
      "71080\n",
      "error\n",
      "71081\n",
      "error\n",
      "71082\n",
      "error\n",
      "80795\n",
      "error\n",
      "80796\n",
      "error\n",
      "80797\n",
      "error\n",
      "80798\n",
      "error\n",
      "80799\n",
      "error\n",
      "85910\n",
      "error\n",
      "85911\n"
     ]
    }
   ],
   "source": [
    "from math import isnan\n",
    "for i in range(len(vals)):\n",
    "    try:\n",
    "        isnan(vals[i])\n",
    "    except TypeError:\n",
    "        print(vals[i])\n",
    "        print(i)"
   ]
  },
  {
   "cell_type": "code",
   "execution_count": null,
   "id": "interpreted-patrick",
   "metadata": {},
   "outputs": [],
   "source": []
  }
 ],
 "metadata": {
  "kernelspec": {
   "display_name": "Python 3",
   "language": "python",
   "name": "python3"
  },
  "language_info": {
   "codemirror_mode": {
    "name": "ipython",
    "version": 3
   },
   "file_extension": ".py",
   "mimetype": "text/x-python",
   "name": "python",
   "nbconvert_exporter": "python",
   "pygments_lexer": "ipython3",
   "version": "3.8.8"
  }
 },
 "nbformat": 4,
 "nbformat_minor": 5
}
