{
 "cells": [
  {
   "cell_type": "code",
   "execution_count": 1,
   "id": "temporal-criterion",
   "metadata": {},
   "outputs": [],
   "source": [
    "from pipeline.dataset import Dataset\n",
    "from pipeline.outlier import high_correlators\n",
    "df_dirty = Dataset('../data/example/na_replacement/sample-0aecce93-a6b0-4133-afbf-20513e8f3dc5/data.csv')"
   ]
  },
  {
   "cell_type": "code",
   "execution_count": 2,
   "id": "defensive-establishment",
   "metadata": {},
   "outputs": [
    {
     "data": {
      "text/html": [
       "<div>\n",
       "<style scoped>\n",
       "    .dataframe tbody tr th:only-of-type {\n",
       "        vertical-align: middle;\n",
       "    }\n",
       "\n",
       "    .dataframe tbody tr th {\n",
       "        vertical-align: top;\n",
       "    }\n",
       "\n",
       "    .dataframe thead th {\n",
       "        text-align: right;\n",
       "    }\n",
       "</style>\n",
       "<table border=\"1\" class=\"dataframe\">\n",
       "  <thead>\n",
       "    <tr style=\"text-align: right;\">\n",
       "      <th></th>\n",
       "      <th>time1</th>\n",
       "      <th>signal1</th>\n",
       "    </tr>\n",
       "  </thead>\n",
       "  <tbody>\n",
       "    <tr>\n",
       "      <th>0</th>\n",
       "      <td>2007-08-13 07:37:54</td>\n",
       "      <td>-3.738524</td>\n",
       "    </tr>\n",
       "    <tr>\n",
       "      <th>1</th>\n",
       "      <td>2007-08-13 07:37:56</td>\n",
       "      <td>3.708425</td>\n",
       "    </tr>\n",
       "    <tr>\n",
       "      <th>2</th>\n",
       "      <td>2007-08-13 07:37:58</td>\n",
       "      <td>2.094441</td>\n",
       "    </tr>\n",
       "    <tr>\n",
       "      <th>3</th>\n",
       "      <td>2007-08-13 07:38:00</td>\n",
       "      <td>4.326694</td>\n",
       "    </tr>\n",
       "    <tr>\n",
       "      <th>4</th>\n",
       "      <td>2007-08-13 07:38:02</td>\n",
       "      <td>1.621683</td>\n",
       "    </tr>\n",
       "    <tr>\n",
       "      <th>...</th>\n",
       "      <td>...</td>\n",
       "      <td>...</td>\n",
       "    </tr>\n",
       "    <tr>\n",
       "      <th>90865</th>\n",
       "      <td>2007-08-15 10:06:44</td>\n",
       "      <td>1445.835825</td>\n",
       "    </tr>\n",
       "    <tr>\n",
       "      <th>90866</th>\n",
       "      <td>2007-08-15 10:06:46</td>\n",
       "      <td>1446.848582</td>\n",
       "    </tr>\n",
       "    <tr>\n",
       "      <th>90867</th>\n",
       "      <td>2007-08-15 10:06:48</td>\n",
       "      <td>1446.988573</td>\n",
       "    </tr>\n",
       "    <tr>\n",
       "      <th>90868</th>\n",
       "      <td>2007-08-15 10:06:50</td>\n",
       "      <td>1448.298992</td>\n",
       "    </tr>\n",
       "    <tr>\n",
       "      <th>90869</th>\n",
       "      <td>2007-08-15 10:06:52</td>\n",
       "      <td>1440.965150</td>\n",
       "    </tr>\n",
       "  </tbody>\n",
       "</table>\n",
       "<p>90870 rows × 2 columns</p>\n",
       "</div>"
      ],
      "text/plain": [
       "                     time1      signal1\n",
       "0      2007-08-13 07:37:54    -3.738524\n",
       "1      2007-08-13 07:37:56     3.708425\n",
       "2      2007-08-13 07:37:58     2.094441\n",
       "3      2007-08-13 07:38:00     4.326694\n",
       "4      2007-08-13 07:38:02     1.621683\n",
       "...                    ...          ...\n",
       "90865  2007-08-15 10:06:44  1445.835825\n",
       "90866  2007-08-15 10:06:46  1446.848582\n",
       "90867  2007-08-15 10:06:48  1446.988573\n",
       "90868  2007-08-15 10:06:50  1448.298992\n",
       "90869  2007-08-15 10:06:52  1440.965150\n",
       "\n",
       "[90870 rows x 2 columns]"
      ]
     },
     "execution_count": 2,
     "metadata": {},
     "output_type": "execute_result"
    }
   ],
   "source": [
    "df_dirty.df"
   ]
  },
  {
   "cell_type": "code",
   "execution_count": 3,
   "id": "occupied-clark",
   "metadata": {},
   "outputs": [],
   "source": [
    "df_dirty.scan_columns()"
   ]
  },
  {
   "cell_type": "code",
   "execution_count": 4,
   "id": "formal-airplane",
   "metadata": {},
   "outputs": [
    {
     "data": {
      "text/plain": [
       "'%Y-%m-%d %H:%M:%S'"
      ]
     },
     "execution_count": 4,
     "metadata": {},
     "output_type": "execute_result"
    }
   ],
   "source": [
    "df_dirty.infer_format()\n"
   ]
  },
  {
   "cell_type": "code",
   "execution_count": 5,
   "id": "fatal-toner",
   "metadata": {
    "scrolled": true
   },
   "outputs": [
    {
     "name": "stdout",
     "output_type": "stream",
     "text": [
      "[]\n"
     ]
    }
   ],
   "source": [
    "df_dirty.apply_format()\n",
    "df_dirty.clean_stamps()"
   ]
  },
  {
   "cell_type": "code",
   "execution_count": 6,
   "id": "rapid-highland",
   "metadata": {
    "scrolled": true
   },
   "outputs": [
    {
     "name": "stdout",
     "output_type": "stream",
     "text": [
      "Index already datetime\n",
      "0 days 00:00:02    90869\n",
      "Name: time1, dtype: int64\n",
      "Median: 0 days 00:00:02\n",
      "0 rows were added due to resampling\n",
      "Before interpolation 0 rows contain nan values\n",
      "After interpolation 0 rows contain nan values\n"
     ]
    }
   ],
   "source": [
    "df_dirty.time_as_index()\n",
    "df_dirty.resample()\n",
    "df_dirty.convert_na()\n",
    "df_dirty.interpolate()\n",
    "df_dirty.drop_dup_cols()"
   ]
  },
  {
   "cell_type": "code",
   "execution_count": 7,
   "id": "phantom-momentum",
   "metadata": {},
   "outputs": [
    {
     "data": {
      "text/html": [
       "<div>\n",
       "<style scoped>\n",
       "    .dataframe tbody tr th:only-of-type {\n",
       "        vertical-align: middle;\n",
       "    }\n",
       "\n",
       "    .dataframe tbody tr th {\n",
       "        vertical-align: top;\n",
       "    }\n",
       "\n",
       "    .dataframe thead th {\n",
       "        text-align: right;\n",
       "    }\n",
       "</style>\n",
       "<table border=\"1\" class=\"dataframe\">\n",
       "  <thead>\n",
       "    <tr style=\"text-align: right;\">\n",
       "      <th></th>\n",
       "      <th>signal1</th>\n",
       "    </tr>\n",
       "  </thead>\n",
       "  <tbody>\n",
       "    <tr>\n",
       "      <th>2007-08-13 07:37:54</th>\n",
       "      <td>-3.738524</td>\n",
       "    </tr>\n",
       "    <tr>\n",
       "      <th>2007-08-13 07:37:56</th>\n",
       "      <td>3.708425</td>\n",
       "    </tr>\n",
       "    <tr>\n",
       "      <th>2007-08-13 07:37:58</th>\n",
       "      <td>2.094441</td>\n",
       "    </tr>\n",
       "    <tr>\n",
       "      <th>2007-08-13 07:38:00</th>\n",
       "      <td>4.326694</td>\n",
       "    </tr>\n",
       "    <tr>\n",
       "      <th>2007-08-13 07:38:02</th>\n",
       "      <td>1.621683</td>\n",
       "    </tr>\n",
       "    <tr>\n",
       "      <th>...</th>\n",
       "      <td>...</td>\n",
       "    </tr>\n",
       "    <tr>\n",
       "      <th>2007-08-15 10:06:44</th>\n",
       "      <td>1445.835825</td>\n",
       "    </tr>\n",
       "    <tr>\n",
       "      <th>2007-08-15 10:06:46</th>\n",
       "      <td>1446.848582</td>\n",
       "    </tr>\n",
       "    <tr>\n",
       "      <th>2007-08-15 10:06:48</th>\n",
       "      <td>1446.988573</td>\n",
       "    </tr>\n",
       "    <tr>\n",
       "      <th>2007-08-15 10:06:50</th>\n",
       "      <td>1448.298992</td>\n",
       "    </tr>\n",
       "    <tr>\n",
       "      <th>2007-08-15 10:06:52</th>\n",
       "      <td>1440.965150</td>\n",
       "    </tr>\n",
       "  </tbody>\n",
       "</table>\n",
       "<p>90870 rows × 1 columns</p>\n",
       "</div>"
      ],
      "text/plain": [
       "                         signal1\n",
       "2007-08-13 07:37:54    -3.738524\n",
       "2007-08-13 07:37:56     3.708425\n",
       "2007-08-13 07:37:58     2.094441\n",
       "2007-08-13 07:38:00     4.326694\n",
       "2007-08-13 07:38:02     1.621683\n",
       "...                          ...\n",
       "2007-08-15 10:06:44  1445.835825\n",
       "2007-08-15 10:06:46  1446.848582\n",
       "2007-08-15 10:06:48  1446.988573\n",
       "2007-08-15 10:06:50  1448.298992\n",
       "2007-08-15 10:06:52  1440.965150\n",
       "\n",
       "[90870 rows x 1 columns]"
      ]
     },
     "execution_count": 7,
     "metadata": {},
     "output_type": "execute_result"
    }
   ],
   "source": [
    "df_dirty.df"
   ]
  },
  {
   "cell_type": "code",
   "execution_count": 8,
   "id": "operating-circumstances",
   "metadata": {},
   "outputs": [
    {
     "data": {
      "image/png": "[encoded data removed]",
      "text/plain": [
       "<Figure size 432x288 with 1 Axes>"
      ]
     },
     "metadata": {
      "needs_background": "light"
     },
     "output_type": "display_data"
    }
   ],
   "source": [
    "df_dirty.show_univariate_outliers('signal1')"
   ]
  },
  {
   "cell_type": "code",
   "execution_count": 9,
   "id": "smart-complex",
   "metadata": {},
   "outputs": [
    {
     "name": "stdout",
     "output_type": "stream",
     "text": [
      "Before interpolation 265 rows contain nan values\n",
      "After interpolation 0 rows contain nan values\n"
     ]
    },
    {
     "data": {
      "image/png": "[encoded data removed]",
      "text/plain": [
       "<Figure size 432x288 with 1 Axes>"
      ]
     },
     "metadata": {
      "needs_background": "light"
     },
     "output_type": "display_data"
    }
   ],
   "source": [
    "df_dirty.clean_flagged_outliers('signal1', mode='all')"
   ]
  },
  {
   "cell_type": "code",
   "execution_count": 7,
   "id": "covered-bundle",
   "metadata": {},
   "outputs": [],
   "source": [
    "import os\n",
    "cwd = os.getcwd()\n",
    "cwd\n",
    "df_dirty.to_csv(cwd+'/output.csv',index=True)"
   ]
  }
 ],
 "metadata": {
  "kernelspec": {
   "display_name": "Python 3",
   "language": "python",
   "name": "python3"
  },
  "language_info": {
   "codemirror_mode": {
    "name": "ipython",
    "version": 3
   },
   "file_extension": ".py",
   "mimetype": "text/x-python",
   "name": "python",
   "nbconvert_exporter": "python",
   "pygments_lexer": "ipython3",
   "version": "3.8.8"
  }
 },
 "nbformat": 4,
 "nbformat_minor": 5
}
