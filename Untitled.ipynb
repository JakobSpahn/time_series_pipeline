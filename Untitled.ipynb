{
 "cells": [
  {
   "cell_type": "markdown",
   "id": "stone-jaguar",
   "metadata": {},
   "source": [
    "## Issues\n",
    "\n",
    "### Issues with Timestamp\n",
    "\n",
    "- 11:01:00 - 11:01:59: only the minute was recorded --> done\n",
    "- 14:20:01 - 14:40:30: the cell format is incorrect, only numerical values of a certain format are stored --> DONE\n",
    "- 16:00:00 - 17:00:00: recorded in 12-hour format (e.g. 4:00:00 PM) --> DONE\n",
    "- 13:59:46: recorded twice --> done\n",
    "- 12:08:00 - 12:08:59: every other time stamp is missing --> Done\n",
    "\n",
    "### Issues with PVs\n",
    "\n",
    "- 12:11:01 - 12:16:06: the unit of PT102/OUT.CV changed from barg to mPa (1 barg ~~ 0.1 mPa)\n",
    "- 15:14:00 - 15:16:00: measurement error in FIC103/PID1/PV; FIC103/PID1/PV is different from FIC103/PID1/SP and FT103/OUT.CV.\n",
    "- Missing values scattered in the data: connectivity error, nan, empty cells; some values (e.g. missing value in FT104/OUT.CV can be infered from FIC104/PID1/PV) --> Done using interpolation. Maybe come back to this one\n",
    "- Duplicated entries: \"PT101/OUT.CV\" at column E and \"Pressure measure\" at column Q"
   ]
  },
  {
   "cell_type": "code",
   "execution_count": 1,
   "id": "temporal-criterion",
   "metadata": {},
   "outputs": [],
   "source": [
    "from pipeline.dataset import Dataset\n",
    "df_dirty = Dataset('data/real/00-complete/dirty_data.csv')"
   ]
  },
  {
   "cell_type": "code",
   "execution_count": 2,
   "id": "african-emission",
   "metadata": {},
   "outputs": [
    {
     "data": {
      "text/plain": [
       "'%H:%M:%S'"
      ]
     },
     "execution_count": 2,
     "metadata": {},
     "output_type": "execute_result"
    }
   ],
   "source": [
    "df_dirty.infer_format()"
   ]
  },
  {
   "cell_type": "code",
   "execution_count": 3,
   "id": "above-climate",
   "metadata": {},
   "outputs": [
    {
     "name": "stdout",
     "output_type": "stream",
     "text": [
      "['11:01:00' '0x0']\n",
      "Changing duplicate timestamp 11:01:00\n",
      "Changing duplicate timestamp 0x0\n"
     ]
    }
   ],
   "source": [
    "df_dirty.apply_format()\n",
    "df_dirty.clean_stamps()"
   ]
  },
  {
   "cell_type": "code",
   "execution_count": 4,
   "id": "starting-invalid",
   "metadata": {},
   "outputs": [
    {
     "data": {
      "text/plain": [
       "'Unnamed: 0'"
      ]
     },
     "execution_count": 4,
     "metadata": {},
     "output_type": "execute_result"
    }
   ],
   "source": [
    "df_dirty.name_time"
   ]
  },
  {
   "cell_type": "code",
   "execution_count": 5,
   "id": "wicked-colorado",
   "metadata": {},
   "outputs": [
    {
     "data": {
      "text/plain": [
       "True"
      ]
     },
     "execution_count": 5,
     "metadata": {},
     "output_type": "execute_result"
    }
   ],
   "source": [
    "df_dirty.time_as_index()"
   ]
  },
  {
   "cell_type": "code",
   "execution_count": 6,
   "id": "monthly-homeless",
   "metadata": {
    "scrolled": true
   },
   "outputs": [
    {
     "name": "stdout",
     "output_type": "stream",
     "text": [
      "Index already datetime\n"
     ]
    },
    {
     "data": {
      "text/plain": [
       "True"
      ]
     },
     "execution_count": 6,
     "metadata": {},
     "output_type": "execute_result"
    }
   ],
   "source": [
    "df_dirty.time_as_index()"
   ]
  },
  {
   "cell_type": "code",
   "execution_count": 7,
   "id": "grand-miracle",
   "metadata": {},
   "outputs": [
    {
     "name": "stdout",
     "output_type": "stream",
     "text": [
      "Index already datetime\n",
      "0 days 00:00:01    25142\n",
      "0 days 00:00:02       29\n",
      "Name: Unnamed: 0, dtype: int64\n",
      "Median: 0 days 00:00:01\n"
     ]
    },
    {
     "data": {
      "text/plain": [
       "Timedelta('0 days 00:00:01')"
      ]
     },
     "execution_count": 7,
     "metadata": {},
     "output_type": "execute_result"
    }
   ],
   "source": [
    "df_dirty.median_sampling_rate()"
   ]
  },
  {
   "cell_type": "code",
   "execution_count": 8,
   "id": "known-recall",
   "metadata": {},
   "outputs": [
    {
     "name": "stdout",
     "output_type": "stream",
     "text": [
      "Index already datetime\n",
      "0 days 00:00:01    25142\n",
      "0 days 00:00:02       29\n",
      "Name: Unnamed: 0, dtype: int64\n",
      "Median: 0 days 00:00:01\n",
      "29 rows were added due to resampling\n"
     ]
    }
   ],
   "source": [
    "df_dirty.resample()"
   ]
  },
  {
   "cell_type": "code",
   "execution_count": 9,
   "id": "traditional-vaccine",
   "metadata": {},
   "outputs": [
    {
     "name": "stdout",
     "output_type": "stream",
     "text": [
      "0 rows contain nan values\n"
     ]
    }
   ],
   "source": [
    "df_dirty.interpolate()"
   ]
  },
  {
   "cell_type": "code",
   "execution_count": 10,
   "id": "correct-banks",
   "metadata": {},
   "outputs": [],
   "source": [
    "import os\n",
    "cwd = os.getcwd()\n",
    "cwd\n",
    "df_dirty.to_csv(cwd+'/output.csv',index=True)"
   ]
  },
  {
   "cell_type": "code",
   "execution_count": 19,
   "id": "minor-capture",
   "metadata": {},
   "outputs": [
    {
     "data": {
      "text/plain": [
       "2021-05-10 12:10:50    1.420101047\n",
       "2021-05-10 12:10:51    1.463176012\n",
       "2021-05-10 12:10:52    1.465423942\n",
       "2021-05-10 12:10:53    1.452321053\n",
       "2021-05-10 12:10:54    1.416340947\n",
       "2021-05-10 12:10:55    1.397925973\n",
       "2021-05-10 12:10:56    1.357285976\n",
       "2021-05-10 12:10:57    1.418846011\n",
       "2021-05-10 12:10:58    1.458271027\n",
       "2021-05-10 12:10:59    1.462484002\n",
       "2021-05-10 12:11:00     1.43611598\n",
       "2021-05-10 12:11:01    0.143611598\n",
       "2021-05-10 12:11:02    0.142838299\n",
       "2021-05-10 12:11:03    0.138782895\n",
       "2021-05-10 12:11:04    0.141919506\n",
       "2021-05-10 12:11:05    0.142173004\n",
       "2021-05-10 12:11:06    0.145534504\n",
       "2021-05-10 12:11:07    0.144867599\n",
       "2021-05-10 12:11:08    0.140866995\n",
       "2021-05-10 12:11:09    0.144011295\n",
       "2021-05-10 12:11:10    0.142610204\n",
       "Name: PT102/OUT.CV, dtype: object"
      ]
     },
     "execution_count": 19,
     "metadata": {},
     "output_type": "execute_result"
    }
   ],
   "source": [
    "#Querying\n",
    "col_name = 'PT102/OUT.CV'\n",
    "start_time = '12:10:50'\n",
    "end_time = '12:11:10'\n",
    "df_dirty.df[(df_dirty.df.index >= start_time) & (df_dirty.df.index <= end_time)][col_name]"
   ]
  },
  {
   "cell_type": "code",
   "execution_count": null,
   "id": "cubic-discount",
   "metadata": {},
   "outputs": [],
   "source": []
  }
 ],
 "metadata": {
  "kernelspec": {
   "display_name": "Python 3",
   "language": "python",
   "name": "python3"
  },
  "language_info": {
   "codemirror_mode": {
    "name": "ipython",
    "version": 3
   },
   "file_extension": ".py",
   "mimetype": "text/x-python",
   "name": "python",
   "nbconvert_exporter": "python",
   "pygments_lexer": "ipython3",
   "version": "3.8.8"
  }
 },
 "nbformat": 4,
 "nbformat_minor": 5
}
