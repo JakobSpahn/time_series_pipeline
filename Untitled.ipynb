{
 "cells": [
  {
   "cell_type": "markdown",
   "id": "stone-jaguar",
   "metadata": {},
   "source": [
    "## Issues\n",
    "\n",
    "### Issues with Timestamp\n",
    "\n",
    "- 11:01:00 - 11:01:59: only the minute was recorded --> done\n",
    "- 14:20:01 - 14:40:30: the cell format is incorrect, only numerical values of a certain format are stored --> DONE\n",
    "- 16:00:00 - 17:00:00: recorded in 12-hour format (e.g. 4:00:00 PM) --> DONE\n",
    "- 13:59:46: recorded twice --> done\n",
    "- 12:08:00 - 12:08:59: every other time stamp is missing --> Done\n",
    "\n",
    "### Issues with PVs\n",
    "\n",
    "- 12:11:01 - 12:16:06: the unit of PT102/OUT.CV changed from barg to mPa (1 barg ~~ 0.1 mPa)\n",
    "- 15:14:00 - 15:16:00: measurement error in FIC103/PID1/PV; FIC103/PID1/PV is different from FIC103/PID1/SP and FT103/OUT.CV.\n",
    "- Missing values scattered in the data: connectivity error, nan, empty cells; some values (e.g. missing value in FT104/OUT.CV can be infered from FIC104/PID1/PV) --> Done using interpolation. Maybe come back to this one\n",
    "- Duplicated entries: \"PT101/OUT.CV\" at column E and \"Pressure measure\" at column Q --> DONE"
   ]
  },
  {
   "cell_type": "code",
   "execution_count": 1,
   "id": "temporal-criterion",
   "metadata": {},
   "outputs": [],
   "source": [
    "from pipeline.dataset import Dataset\n",
    "df_dirty = Dataset('data/real/00-complete/dirty_data.csv')"
   ]
  },
  {
   "cell_type": "code",
   "execution_count": 2,
   "id": "hungarian-diameter",
   "metadata": {},
   "outputs": [
    {
     "data": {
      "text/html": [
       "<div>\n",
       "<style scoped>\n",
       "    .dataframe tbody tr th:only-of-type {\n",
       "        vertical-align: middle;\n",
       "    }\n",
       "\n",
       "    .dataframe tbody tr th {\n",
       "        vertical-align: top;\n",
       "    }\n",
       "\n",
       "    .dataframe thead th {\n",
       "        text-align: right;\n",
       "    }\n",
       "</style>\n",
       "<table border=\"1\" class=\"dataframe\">\n",
       "  <thead>\n",
       "    <tr style=\"text-align: right;\">\n",
       "      <th></th>\n",
       "      <th>Unnamed: 0</th>\n",
       "      <th>FT101/OUT.CV</th>\n",
       "      <th>FT102/OUT.CV</th>\n",
       "      <th>TT101/OUT.CV</th>\n",
       "      <th>PT101/OUT.CV</th>\n",
       "      <th>FT103/OUT.CV</th>\n",
       "      <th>FT104/OUT.CV</th>\n",
       "      <th>TT102/OUT.CV</th>\n",
       "      <th>FT104/AI2/OUT.CV</th>\n",
       "      <th>PT102/OUT.CV</th>\n",
       "      <th>FIC103/PID1/OUT.CV</th>\n",
       "      <th>FIC103/PID1/SP.CV</th>\n",
       "      <th>FIC103/PID1/PV.CV</th>\n",
       "      <th>FIC104/PID1/OUT.CV</th>\n",
       "      <th>FIC104/PID1/SP.CV</th>\n",
       "      <th>FIC104/PID1/PV.CV</th>\n",
       "      <th>Pressure measure</th>\n",
       "    </tr>\n",
       "  </thead>\n",
       "  <tbody>\n",
       "    <tr>\n",
       "      <th>1</th>\n",
       "      <td>10:00:00</td>\n",
       "      <td>99.54795074</td>\n",
       "      <td>0.008761454</td>\n",
       "      <td>18.37232018</td>\n",
       "      <td>1.155874968</td>\n",
       "      <td>0.003782222</td>\n",
       "      <td>0.009572395</td>\n",
       "      <td>19.13813019</td>\n",
       "      <td>998.3886719</td>\n",
       "      <td>1.129974008</td>\n",
       "      <td>0.0</td>\n",
       "      <td>0.002739</td>\n",
       "      <td>0.003782</td>\n",
       "      <td>0.0</td>\n",
       "      <td>0.0</td>\n",
       "      <td>0.009572</td>\n",
       "      <td>1.155874968</td>\n",
       "    </tr>\n",
       "    <tr>\n",
       "      <th>2</th>\n",
       "      <td>10:00:01</td>\n",
       "      <td>99.42874146</td>\n",
       "      <td>0.008641435</td>\n",
       "      <td>18.37346077</td>\n",
       "      <td>1.155436993</td>\n",
       "      <td>0.003782467</td>\n",
       "      <td>0.00957255</td>\n",
       "      <td>19.13813019</td>\n",
       "      <td>998.3886108</td>\n",
       "      <td>1.12953496</td>\n",
       "      <td>0.0</td>\n",
       "      <td>0.002595</td>\n",
       "      <td>0.003782</td>\n",
       "      <td>0.0</td>\n",
       "      <td>0.0</td>\n",
       "      <td>0.009573</td>\n",
       "      <td>1.155436993</td>\n",
       "    </tr>\n",
       "    <tr>\n",
       "      <th>3</th>\n",
       "      <td>10:00:02</td>\n",
       "      <td>99.46688843</td>\n",
       "      <td>0.008521415</td>\n",
       "      <td>18.3746109</td>\n",
       "      <td>1.154999018</td>\n",
       "      <td>0.003782712</td>\n",
       "      <td>0.009572705</td>\n",
       "      <td>19.13813019</td>\n",
       "      <td>998.3884888</td>\n",
       "      <td>1.129094958</td>\n",
       "      <td>0.0</td>\n",
       "      <td>0.002451</td>\n",
       "      <td>0.003783</td>\n",
       "      <td>0.0</td>\n",
       "      <td>0.0</td>\n",
       "      <td>0.009573</td>\n",
       "      <td>1.154999018</td>\n",
       "    </tr>\n",
       "    <tr>\n",
       "      <th>4</th>\n",
       "      <td>10:00:03</td>\n",
       "      <td>99.40966797</td>\n",
       "      <td>0.008401395</td>\n",
       "      <td>18.37575912</td>\n",
       "      <td>1.154631019</td>\n",
       "      <td>0.003782957</td>\n",
       "      <td>0.009572862</td>\n",
       "      <td>19.13813019</td>\n",
       "      <td>998.3884888</td>\n",
       "      <td>1.128847957</td>\n",
       "      <td>0.0</td>\n",
       "      <td>0.002451</td>\n",
       "      <td>0.003783</td>\n",
       "      <td>0.0</td>\n",
       "      <td>0.0</td>\n",
       "      <td>0.009573</td>\n",
       "      <td>1.154631019</td>\n",
       "    </tr>\n",
       "    <tr>\n",
       "      <th>5</th>\n",
       "      <td>10:00:04</td>\n",
       "      <td>99.29521942</td>\n",
       "      <td>0.008281375</td>\n",
       "      <td>18.37690926</td>\n",
       "      <td>1.15426302</td>\n",
       "      <td>0.003783203</td>\n",
       "      <td>0.009573016</td>\n",
       "      <td>19.27386093</td>\n",
       "      <td>998.3884888</td>\n",
       "      <td>1.128600955</td>\n",
       "      <td>0.0</td>\n",
       "      <td>0.002451</td>\n",
       "      <td>0.003783</td>\n",
       "      <td>0.0</td>\n",
       "      <td>0.0</td>\n",
       "      <td>0.009573</td>\n",
       "      <td>1.15426302</td>\n",
       "    </tr>\n",
       "    <tr>\n",
       "      <th>...</th>\n",
       "      <td>...</td>\n",
       "      <td>...</td>\n",
       "      <td>...</td>\n",
       "      <td>...</td>\n",
       "      <td>...</td>\n",
       "      <td>...</td>\n",
       "      <td>...</td>\n",
       "      <td>...</td>\n",
       "      <td>...</td>\n",
       "      <td>...</td>\n",
       "      <td>...</td>\n",
       "      <td>...</td>\n",
       "      <td>...</td>\n",
       "      <td>...</td>\n",
       "      <td>...</td>\n",
       "      <td>...</td>\n",
       "      <td>...</td>\n",
       "    </tr>\n",
       "    <tr>\n",
       "      <th>25169</th>\n",
       "      <td>4:59:56 PM</td>\n",
       "      <td>2.252614975</td>\n",
       "      <td>0.000139929</td>\n",
       "      <td>20.91131973</td>\n",
       "      <td>0.573384225</td>\n",
       "      <td>0.000346427</td>\n",
       "      <td>0.000208158</td>\n",
       "      <td>24.16052055</td>\n",
       "      <td>997.1323853</td>\n",
       "      <td>0.607013106</td>\n",
       "      <td>0.0</td>\n",
       "      <td>0.002451</td>\n",
       "      <td>0.000346</td>\n",
       "      <td>0.0</td>\n",
       "      <td>0.0</td>\n",
       "      <td>0.000208</td>\n",
       "      <td>0.573384225</td>\n",
       "    </tr>\n",
       "    <tr>\n",
       "      <th>25170</th>\n",
       "      <td>4:59:57 PM</td>\n",
       "      <td>2.181087971</td>\n",
       "      <td>0.00013916</td>\n",
       "      <td>20.91160965</td>\n",
       "      <td>0.573392808</td>\n",
       "      <td>0.000346464</td>\n",
       "      <td>0.000208299</td>\n",
       "      <td>24.16052055</td>\n",
       "      <td>997.1326294</td>\n",
       "      <td>0.607016683</td>\n",
       "      <td>0.0</td>\n",
       "      <td>0.002451</td>\n",
       "      <td>0.000346</td>\n",
       "      <td>0.0</td>\n",
       "      <td>0.0</td>\n",
       "      <td>0.000208</td>\n",
       "      <td>0.573392808</td>\n",
       "    </tr>\n",
       "    <tr>\n",
       "      <th>25171</th>\n",
       "      <td>4:59:58 PM</td>\n",
       "      <td>2.1930089</td>\n",
       "      <td>0.000138391</td>\n",
       "      <td>20.91189957</td>\n",
       "      <td>0.573401511</td>\n",
       "      <td>0.000346502</td>\n",
       "      <td>0.000208439</td>\n",
       "      <td>24.16052055</td>\n",
       "      <td>997.1328125</td>\n",
       "      <td>0.607020378</td>\n",
       "      <td>0.0</td>\n",
       "      <td>0.002451</td>\n",
       "      <td>0.000347</td>\n",
       "      <td>0.0</td>\n",
       "      <td>0.0</td>\n",
       "      <td>0.000208</td>\n",
       "      <td>0.573401511</td>\n",
       "    </tr>\n",
       "    <tr>\n",
       "      <th>25172</th>\n",
       "      <td>4:59:59 PM</td>\n",
       "      <td>2.204931021</td>\n",
       "      <td>0.000137622</td>\n",
       "      <td>20.91218948</td>\n",
       "      <td>0.573410094</td>\n",
       "      <td>0.00034654</td>\n",
       "      <td>0.00020858</td>\n",
       "      <td>24.16052055</td>\n",
       "      <td>997.1329956</td>\n",
       "      <td>0.607024074</td>\n",
       "      <td>0.0</td>\n",
       "      <td>0.002451</td>\n",
       "      <td>0.000347</td>\n",
       "      <td>0.0</td>\n",
       "      <td>0.0</td>\n",
       "      <td>0.000208</td>\n",
       "      <td>0.573410094</td>\n",
       "    </tr>\n",
       "    <tr>\n",
       "      <th>25173</th>\n",
       "      <td>5:00:00 PM</td>\n",
       "      <td>2.276457071</td>\n",
       "      <td>0.000136854</td>\n",
       "      <td>20.91248322</td>\n",
       "      <td>0.573418736</td>\n",
       "      <td>0.000346578</td>\n",
       "      <td>0.00020872</td>\n",
       "      <td>24.28616905</td>\n",
       "      <td>997.1331787</td>\n",
       "      <td>0.607027709</td>\n",
       "      <td>0.0</td>\n",
       "      <td>0.002451</td>\n",
       "      <td>0.000347</td>\n",
       "      <td>0.0</td>\n",
       "      <td>0.0</td>\n",
       "      <td>0.000209</td>\n",
       "      <td>0.573418736</td>\n",
       "    </tr>\n",
       "  </tbody>\n",
       "</table>\n",
       "<p>25173 rows × 17 columns</p>\n",
       "</div>"
      ],
      "text/plain": [
       "       Unnamed: 0 FT101/OUT.CV FT102/OUT.CV TT101/OUT.CV PT101/OUT.CV  \\\n",
       "1        10:00:00  99.54795074  0.008761454  18.37232018  1.155874968   \n",
       "2        10:00:01  99.42874146  0.008641435  18.37346077  1.155436993   \n",
       "3        10:00:02  99.46688843  0.008521415   18.3746109  1.154999018   \n",
       "4        10:00:03  99.40966797  0.008401395  18.37575912  1.154631019   \n",
       "5        10:00:04  99.29521942  0.008281375  18.37690926   1.15426302   \n",
       "...           ...          ...          ...          ...          ...   \n",
       "25169  4:59:56 PM  2.252614975  0.000139929  20.91131973  0.573384225   \n",
       "25170  4:59:57 PM  2.181087971   0.00013916  20.91160965  0.573392808   \n",
       "25171  4:59:58 PM    2.1930089  0.000138391  20.91189957  0.573401511   \n",
       "25172  4:59:59 PM  2.204931021  0.000137622  20.91218948  0.573410094   \n",
       "25173  5:00:00 PM  2.276457071  0.000136854  20.91248322  0.573418736   \n",
       "\n",
       "      FT103/OUT.CV FT104/OUT.CV TT102/OUT.CV FT104/AI2/OUT.CV PT102/OUT.CV  \\\n",
       "1      0.003782222  0.009572395  19.13813019      998.3886719  1.129974008   \n",
       "2      0.003782467   0.00957255  19.13813019      998.3886108   1.12953496   \n",
       "3      0.003782712  0.009572705  19.13813019      998.3884888  1.129094958   \n",
       "4      0.003782957  0.009572862  19.13813019      998.3884888  1.128847957   \n",
       "5      0.003783203  0.009573016  19.27386093      998.3884888  1.128600955   \n",
       "...            ...          ...          ...              ...          ...   \n",
       "25169  0.000346427  0.000208158  24.16052055      997.1323853  0.607013106   \n",
       "25170  0.000346464  0.000208299  24.16052055      997.1326294  0.607016683   \n",
       "25171  0.000346502  0.000208439  24.16052055      997.1328125  0.607020378   \n",
       "25172   0.00034654   0.00020858  24.16052055      997.1329956  0.607024074   \n",
       "25173  0.000346578   0.00020872  24.28616905      997.1331787  0.607027709   \n",
       "\n",
       "       FIC103/PID1/OUT.CV  FIC103/PID1/SP.CV  FIC103/PID1/PV.CV  \\\n",
       "1                     0.0           0.002739           0.003782   \n",
       "2                     0.0           0.002595           0.003782   \n",
       "3                     0.0           0.002451           0.003783   \n",
       "4                     0.0           0.002451           0.003783   \n",
       "5                     0.0           0.002451           0.003783   \n",
       "...                   ...                ...                ...   \n",
       "25169                 0.0           0.002451           0.000346   \n",
       "25170                 0.0           0.002451           0.000346   \n",
       "25171                 0.0           0.002451           0.000347   \n",
       "25172                 0.0           0.002451           0.000347   \n",
       "25173                 0.0           0.002451           0.000347   \n",
       "\n",
       "       FIC104/PID1/OUT.CV  FIC104/PID1/SP.CV  FIC104/PID1/PV.CV  \\\n",
       "1                     0.0                0.0           0.009572   \n",
       "2                     0.0                0.0           0.009573   \n",
       "3                     0.0                0.0           0.009573   \n",
       "4                     0.0                0.0           0.009573   \n",
       "5                     0.0                0.0           0.009573   \n",
       "...                   ...                ...                ...   \n",
       "25169                 0.0                0.0           0.000208   \n",
       "25170                 0.0                0.0           0.000208   \n",
       "25171                 0.0                0.0           0.000208   \n",
       "25172                 0.0                0.0           0.000208   \n",
       "25173                 0.0                0.0           0.000209   \n",
       "\n",
       "      Pressure measure  \n",
       "1          1.155874968  \n",
       "2          1.155436993  \n",
       "3          1.154999018  \n",
       "4          1.154631019  \n",
       "5           1.15426302  \n",
       "...                ...  \n",
       "25169      0.573384225  \n",
       "25170      0.573392808  \n",
       "25171      0.573401511  \n",
       "25172      0.573410094  \n",
       "25173      0.573418736  \n",
       "\n",
       "[25173 rows x 17 columns]"
      ]
     },
     "execution_count": 2,
     "metadata": {},
     "output_type": "execute_result"
    }
   ],
   "source": [
    "df_dirty.df"
   ]
  },
  {
   "cell_type": "code",
   "execution_count": 3,
   "id": "requested-acrylic",
   "metadata": {},
   "outputs": [
    {
     "name": "stdout",
     "output_type": "stream",
     "text": [
      "['11:01:00' '0x0']\n",
      "Changing duplicate timestamp 11:01:00\n",
      "Changing duplicate timestamp 0x0\n"
     ]
    },
    {
     "name": "stderr",
     "output_type": "stream",
     "text": [
      "C:\\Users\\worf9_000\\anaconda3\\envs\\tf-gpu\\lib\\site-packages\\pandas\\core\\indexing.py:1720: SettingWithCopyWarning: \n",
      "A value is trying to be set on a copy of a slice from a DataFrame.\n",
      "Try using .loc[row_indexer,col_indexer] = value instead\n",
      "\n",
      "See the caveats in the documentation: https://pandas.pydata.org/pandas-docs/stable/user_guide/indexing.html#returning-a-view-versus-a-copy\n",
      "  self._setitem_single_column(loc, value, pi)\n",
      "F:\\time_series_pipeline\\pipeline\\dataset.py:131: SettingWithCopyWarning: \n",
      "A value is trying to be set on a copy of a slice from a DataFrame.\n",
      "Try using .loc[row_indexer,col_indexer] = value instead\n",
      "\n",
      "See the caveats in the documentation: https://pandas.pydata.org/pandas-docs/stable/user_guide/indexing.html#returning-a-view-versus-a-copy\n",
      "  self.df[self.name_time] = pd.to_datetime(self.df[self.name_time])\n"
     ]
    },
    {
     "data": {
      "text/plain": [
       "True"
      ]
     },
     "execution_count": 3,
     "metadata": {},
     "output_type": "execute_result"
    }
   ],
   "source": [
    "df_dirty.infer_format()\n",
    "df_dirty.apply_format()\n",
    "df_dirty.clean_stamps()\n",
    "df_dirty.time_as_index()"
   ]
  },
  {
   "cell_type": "code",
   "execution_count": 4,
   "id": "interracial-commitment",
   "metadata": {},
   "outputs": [
    {
     "name": "stdout",
     "output_type": "stream",
     "text": [
      "Index already datetime\n",
      "0 days 00:00:01    25142\n",
      "0 days 00:00:02       29\n",
      "Name: Unnamed: 0, dtype: int64\n",
      "Median: 0 days 00:00:01\n",
      "29 rows were added due to resampling\n",
      "Converted column: 'FT101/OUT.CV' to numeric\n",
      "Converted column: 'FT102/OUT.CV' to numeric\n",
      "Converted column: 'TT101/OUT.CV' to numeric\n",
      "Converted column: 'PT101/OUT.CV' to numeric\n",
      "Converted column: 'FT103/OUT.CV' to numeric\n",
      "Converted column: 'FT104/OUT.CV' to numeric\n",
      "Converted column: 'TT102/OUT.CV' to numeric\n",
      "Converted column: 'FT104/AI2/OUT.CV' to numeric\n",
      "Converted column: 'PT102/OUT.CV' to numeric\n",
      "Converted column: 'Pressure measure' to numeric\n",
      "Befor interpolation 405 rows contain nan values\n",
      "After interpolation 0 rows contain nan values\n"
     ]
    }
   ],
   "source": [
    "df_dirty.resample()\n",
    "df_dirty.convert_na()\n",
    "df_dirty.interpolate()"
   ]
  },
  {
   "cell_type": "code",
   "execution_count": 5,
   "id": "silent-communications",
   "metadata": {},
   "outputs": [
    {
     "name": "stdout",
     "output_type": "stream",
     "text": [
      "PT101/OUT.CV Pressure measure are equal\n",
      "FT103/OUT.CV FIC103/PID1/PV.CV are equal\n",
      "Column: 'Pressure measure' was dropped\n",
      "Column: 'FIC103/PID1/PV.CV' was dropped\n"
     ]
    }
   ],
   "source": [
    "df_dirty.drop_dup_cols()"
   ]
  },
  {
   "cell_type": "code",
   "execution_count": 6,
   "id": "covered-bundle",
   "metadata": {},
   "outputs": [],
   "source": [
    "import os\n",
    "cwd = os.getcwd()\n",
    "cwd\n",
    "df_dirty.to_csv(cwd+'/output.csv',index=True)"
   ]
  },
  {
   "cell_type": "code",
   "execution_count": 6,
   "id": "broad-albert",
   "metadata": {},
   "outputs": [
    {
     "data": {
      "text/plain": [
       "'PT102/OUT.CV'"
      ]
     },
     "execution_count": 6,
     "metadata": {},
     "output_type": "execute_result"
    }
   ],
   "source": [
    "df_dirty.df['PT102/OUT.CV'].name"
   ]
  },
  {
   "cell_type": "code",
   "execution_count": 6,
   "id": "floral-sierra",
   "metadata": {},
   "outputs": [
    {
     "data": {
      "image/png": "[encoded data removed]",
      "text/plain": [
       "<Figure size 432x288 with 1 Axes>"
      ]
     },
     "metadata": {
      "needs_background": "light"
     },
     "output_type": "display_data"
    }
   ],
   "source": [
    "df_dirty.show_multivariate_outliers('FIC104/PID1/PV.CV')"
   ]
  },
  {
   "cell_type": "code",
   "execution_count": 7,
   "id": "center-principle",
   "metadata": {},
   "outputs": [
    {
     "name": "stdout",
     "output_type": "stream",
     "text": [
      "Cleaning the automatically flagged outliers\n",
      "Befor interpolation 120 rows contain nan values\n",
      "After interpolation 0 rows contain nan values\n"
     ]
    }
   ],
   "source": [
    "df_dirty.clean_flagged_outliers('FIC104/PID1/PV.CV')"
   ]
  },
  {
   "cell_type": "code",
   "execution_count": 8,
   "id": "involved-encounter",
   "metadata": {},
   "outputs": [
    {
     "data": {
      "image/png": "[encoded data removed]",
      "text/plain": [
       "<Figure size 432x288 with 1 Axes>"
      ]
     },
     "metadata": {
      "needs_background": "light"
     },
     "output_type": "display_data"
    }
   ],
   "source": [
    "df_dirty.show_multivariate_outliers('FIC104/PID1/PV.CV')"
   ]
  },
  {
   "cell_type": "code",
   "execution_count": 17,
   "id": "orange-instrument",
   "metadata": {},
   "outputs": [],
   "source": [
    "from pipeline.outlier import *"
   ]
  },
  {
   "cell_type": "code",
   "execution_count": 38,
   "id": "desirable-metro",
   "metadata": {},
   "outputs": [
    {
     "data": {
      "image/png": "[encoded data removed]",
      "text/plain": [
       "<Figure size 432x288 with 1 Axes>"
      ]
     },
     "metadata": {
      "needs_background": "light"
     },
     "output_type": "display_data"
    }
   ],
   "source": [
    "#Multivariate Outliers:\n",
    "name = 'FIC104/PID1/PV.CV'\n",
    "#name = 'PT102/OUT.CV'\n",
    "corr = high_correlators(df_dirty.df, 0.7)[name]\n",
    "lst = [name]\n",
    "lst.extend(corr)\n",
    "df = df_dirty.df\n",
    "df = df[lst]\n",
    "outliers_mahal_bi, md_bi = mahalanobis_method(df=df)\n",
    "groups = group_outliers(outliers_mahal_bi)\n",
    "visualize_outliers(df[name], groups)\n",
    "col = df[name]"
   ]
  },
  {
   "cell_type": "code",
   "execution_count": 73,
   "id": "terminal-consultation",
   "metadata": {},
   "outputs": [
    {
     "name": "stdout",
     "output_type": "stream",
     "text": [
      "Column does not correlate enough with other columns to detect multivariate outliers\n"
     ]
    }
   ],
   "source": [
    "try:\n",
    "    high_correlators(df_dirty.df,0.7)['lol']\n",
    "except KeyError:\n",
    "    print('Column does not correlate enough with other columns to detect multivariate outliers')"
   ]
  },
  {
   "cell_type": "code",
   "execution_count": 41,
   "id": "furnished-kidney",
   "metadata": {},
   "outputs": [
    {
     "data": {
      "text/plain": [
       "6"
      ]
     },
     "execution_count": 41,
     "metadata": {},
     "output_type": "execute_result"
    }
   ],
   "source": [
    "len(groups)"
   ]
  },
  {
   "cell_type": "code",
   "execution_count": null,
   "id": "enormous-cartridge",
   "metadata": {},
   "outputs": [],
   "source": [
    "col"
   ]
  },
  {
   "cell_type": "code",
   "execution_count": 46,
   "id": "brazilian-costume",
   "metadata": {},
   "outputs": [
    {
     "name": "stdout",
     "output_type": "stream",
     "text": [
      "[0.009639164195402297, 0.28827142389473687, 0.31145000569230763, 0.27959474973584914, -0.0010712701666666666, 0.28730558337499995]\n"
     ]
    }
   ],
   "source": [
    "from statistics import mean, stdev\n",
    "means =[]\n",
    "for i in range(len(groups)):\n",
    "    subseries = col.iloc[groups[i][0]-1:groups[i][-1]]\n",
    "    means.append(subseries.mean())\n",
    "print(means)"
   ]
  },
  {
   "cell_type": "code",
   "execution_count": 64,
   "id": "arbitrary-overview",
   "metadata": {},
   "outputs": [
    {
     "data": {
      "text/plain": [
       "array([0, 4], dtype=int64)"
      ]
     },
     "execution_count": 64,
     "metadata": {},
     "output_type": "execute_result"
    }
   ],
   "source": [
    "zscore_method(means, 1)"
   ]
  },
  {
   "cell_type": "code",
   "execution_count": null,
   "id": "serious-convertible",
   "metadata": {},
   "outputs": [],
   "source": [
    "for i in "
   ]
  },
  {
   "cell_type": "code",
   "execution_count": 14,
   "id": "demanding-horizontal",
   "metadata": {},
   "outputs": [
    {
     "name": "stdout",
     "output_type": "stream",
     "text": [
      "<bound method Dataset.show_multivariate_outliers of <pipeline.dataset.Dataset object at 0x0000014ED4529FD0>>\n"
     ]
    }
   ],
   "source": [
    "print('{0}'.format(df_dirty.show_multivariate_outliers))"
   ]
  },
  {
   "cell_type": "code",
   "execution_count": 22,
   "id": "subtle-inspiration",
   "metadata": {},
   "outputs": [],
   "source": [
    "#Hypothesis: Outliers are measurement errors, if each group has low standard deviation"
   ]
  },
  {
   "cell_type": "code",
   "execution_count": 19,
   "id": "coupled-hydrogen",
   "metadata": {},
   "outputs": [
    {
     "data": {
      "image/png": "[encoded data removed]",
      "text/plain": [
       "<Figure size 432x288 with 1 Axes>"
      ]
     },
     "metadata": {
      "needs_background": "light"
     },
     "output_type": "display_data"
    }
   ],
   "source": [
    "#Univariate Outliers:\n",
    "name = 'PT102/OUT.CV'\n",
    "#name = 'FIC104/PID1/PV.CV'\n",
    "col = df_dirty.df[name]\n",
    "out = zscore_method(col)\n",
    "grps = group_outliers(out)\n",
    "visualize_outliers(col, grps)"
   ]
  },
  {
   "cell_type": "code",
   "execution_count": 19,
   "id": "banned-charity",
   "metadata": {},
   "outputs": [
    {
     "name": "stdout",
     "output_type": "stream",
     "text": [
      "20\n",
      "315\n",
      "20\n",
      "10\n",
      "14\n"
     ]
    }
   ],
   "source": [
    "#1. To find outliers where mayber the unit changed, look for long consecutive:\n",
    "for i in range(len(cons)):\n",
    "    print(len(cons[i]))"
   ]
  },
  {
   "cell_type": "code",
   "execution_count": 109,
   "id": "uniform-holocaust",
   "metadata": {},
   "outputs": [
    {
     "data": {
      "text/plain": [
       "1.2499503987936986"
      ]
     },
     "execution_count": 109,
     "metadata": {},
     "output_type": "execute_result"
    }
   ],
   "source": [
    "315/len(col) *100"
   ]
  },
  {
   "cell_type": "code",
   "execution_count": 33,
   "id": "established-lucas",
   "metadata": {},
   "outputs": [],
   "source": [
    "#2. To find outliers where there was a measurement error look if the consecutive outliers all share the same value\n",
    "#Check with modulo\n",
    "#Hypothesis: Outliers are just low-level representation of measurement error:\n",
    "mask = []\n",
    "flag = True\n",
    "for i in range(len(cons)):\n",
    "    comp = cons[i][0]\n",
    "    for n in range(1, len(cons[i])):\n",
    "        if(comp != cons[i][n]):         \n",
    "            flag = False\n",
    "            break\n",
    "    mask.append(flag)"
   ]
  },
  {
   "cell_type": "code",
   "execution_count": 34,
   "id": "existing-convenience",
   "metadata": {},
   "outputs": [
    {
     "name": "stdout",
     "output_type": "stream",
     "text": [
      "Row 5204 until 5224 is not a measurement error\n",
      "Row 7862 until 8176 is not a measurement error\n",
      "Row 9455 until 9474 is not a measurement error\n",
      "Row 18098 until 18107 is not a measurement error\n",
      "Row 21989 until 22002 is not a measurement error\n"
     ]
    }
   ],
   "source": [
    "for i in range(len(mask)):\n",
    "    if(mask[i]):\n",
    "        print('Row {0} until {1} is likely a measurement error'.format(cons[i][0],cons[i][-1]))\n",
    "    else:\n",
    "        print('Row {0} until {1} is not a measurement error'.format(cons[i][0],cons[i][-1]))"
   ]
  },
  {
   "cell_type": "code",
   "execution_count": 44,
   "id": "uniform-canyon",
   "metadata": {},
   "outputs": [
    {
     "data": {
      "text/plain": [
       "FT101/OUT.CV          0.488361\n",
       "FT102/OUT.CV          0.154806\n",
       "TT101/OUT.CV         -0.315265\n",
       "PT101/OUT.CV          0.734132\n",
       "FT103/OUT.CV         -0.073263\n",
       "FT104/OUT.CV          0.395737\n",
       "TT102/OUT.CV          0.039099\n",
       "FT104/AI2/OUT.CV     -0.166829\n",
       "PT102/OUT.CV          1.000000\n",
       "FIC103/PID1/OUT.CV         NaN\n",
       "FIC103/PID1/SP.CV    -0.145974\n",
       "FIC104/PID1/OUT.CV    0.524996\n",
       "FIC104/PID1/SP.CV     0.384854\n",
       "FIC104/PID1/PV.CV     0.391127\n",
       "Name: PT102/OUT.CV, dtype: float64"
      ]
     },
     "execution_count": 44,
     "metadata": {},
     "output_type": "execute_result"
    }
   ],
   "source": [
    "#3. Check for each subseries the corellation with high-corellating collumns' subeseries. If correlation if low, it is likely an error\n",
    "#Hypothesis: Outliers are measurement errors because they don't correlate with related columns\n",
    "corrs = df_dirty.df.corr()\n",
    "corrs['PT102/OUT.CV']"
   ]
  },
  {
   "cell_type": "code",
   "execution_count": 110,
   "id": "tutorial-remedy",
   "metadata": {},
   "outputs": [],
   "source": [
    "#4. Get mean for each consecutive outliers. Compare. If one mean is an outlier, this is probably an error"
   ]
  },
  {
   "cell_type": "code",
   "execution_count": 66,
   "id": "micro-founder",
   "metadata": {},
   "outputs": [
    {
     "data": {
      "text/plain": [
       "True"
      ]
     },
     "execution_count": 66,
     "metadata": {},
     "output_type": "execute_result"
    }
   ],
   "source": [
    "isinstance('hi',str)"
   ]
  },
  {
   "cell_type": "code",
   "execution_count": 67,
   "id": "british-palestine",
   "metadata": {},
   "outputs": [
    {
     "ename": "KeyError",
     "evalue": "0",
     "output_type": "error",
     "traceback": [
      "\u001b[1;31m---------------------------------------------------------------------------\u001b[0m",
      "\u001b[1;31mKeyError\u001b[0m                                  Traceback (most recent call last)",
      "\u001b[1;32m~\\anaconda3\\envs\\tf-gpu\\lib\\site-packages\\pandas\\core\\indexes\\base.py\u001b[0m in \u001b[0;36mget_loc\u001b[1;34m(self, key, method, tolerance)\u001b[0m\n\u001b[0;32m   3079\u001b[0m             \u001b[1;32mtry\u001b[0m\u001b[1;33m:\u001b[0m\u001b[1;33m\u001b[0m\u001b[1;33m\u001b[0m\u001b[0m\n\u001b[1;32m-> 3080\u001b[1;33m                 \u001b[1;32mreturn\u001b[0m \u001b[0mself\u001b[0m\u001b[1;33m.\u001b[0m\u001b[0m_engine\u001b[0m\u001b[1;33m.\u001b[0m\u001b[0mget_loc\u001b[0m\u001b[1;33m(\u001b[0m\u001b[0mcasted_key\u001b[0m\u001b[1;33m)\u001b[0m\u001b[1;33m\u001b[0m\u001b[1;33m\u001b[0m\u001b[0m\n\u001b[0m\u001b[0;32m   3081\u001b[0m             \u001b[1;32mexcept\u001b[0m \u001b[0mKeyError\u001b[0m \u001b[1;32mas\u001b[0m \u001b[0merr\u001b[0m\u001b[1;33m:\u001b[0m\u001b[1;33m\u001b[0m\u001b[1;33m\u001b[0m\u001b[0m\n",
      "\u001b[1;32mpandas\\_libs\\index.pyx\u001b[0m in \u001b[0;36mpandas._libs.index.IndexEngine.get_loc\u001b[1;34m()\u001b[0m\n",
      "\u001b[1;32mpandas\\_libs\\index.pyx\u001b[0m in \u001b[0;36mpandas._libs.index.IndexEngine.get_loc\u001b[1;34m()\u001b[0m\n",
      "\u001b[1;32mpandas\\_libs\\hashtable_class_helper.pxi\u001b[0m in \u001b[0;36mpandas._libs.hashtable.PyObjectHashTable.get_item\u001b[1;34m()\u001b[0m\n",
      "\u001b[1;32mpandas\\_libs\\hashtable_class_helper.pxi\u001b[0m in \u001b[0;36mpandas._libs.hashtable.PyObjectHashTable.get_item\u001b[1;34m()\u001b[0m\n",
      "\u001b[1;31mKeyError\u001b[0m: 0",
      "\nThe above exception was the direct cause of the following exception:\n",
      "\u001b[1;31mKeyError\u001b[0m                                  Traceback (most recent call last)",
      "\u001b[1;32m<ipython-input-67-188c960195b8>\u001b[0m in \u001b[0;36m<module>\u001b[1;34m\u001b[0m\n\u001b[1;32m----> 1\u001b[1;33m \u001b[0mtype\u001b[0m\u001b[1;33m(\u001b[0m\u001b[0mdf\u001b[0m\u001b[1;33m[\u001b[0m\u001b[1;36m0\u001b[0m\u001b[1;33m]\u001b[0m\u001b[1;33m)\u001b[0m\u001b[1;33m\u001b[0m\u001b[1;33m\u001b[0m\u001b[0m\n\u001b[0m",
      "\u001b[1;32m~\\anaconda3\\envs\\tf-gpu\\lib\\site-packages\\pandas\\core\\frame.py\u001b[0m in \u001b[0;36m__getitem__\u001b[1;34m(self, key)\u001b[0m\n\u001b[0;32m   3022\u001b[0m             \u001b[1;32mif\u001b[0m \u001b[0mself\u001b[0m\u001b[1;33m.\u001b[0m\u001b[0mcolumns\u001b[0m\u001b[1;33m.\u001b[0m\u001b[0mnlevels\u001b[0m \u001b[1;33m>\u001b[0m \u001b[1;36m1\u001b[0m\u001b[1;33m:\u001b[0m\u001b[1;33m\u001b[0m\u001b[1;33m\u001b[0m\u001b[0m\n\u001b[0;32m   3023\u001b[0m                 \u001b[1;32mreturn\u001b[0m \u001b[0mself\u001b[0m\u001b[1;33m.\u001b[0m\u001b[0m_getitem_multilevel\u001b[0m\u001b[1;33m(\u001b[0m\u001b[0mkey\u001b[0m\u001b[1;33m)\u001b[0m\u001b[1;33m\u001b[0m\u001b[1;33m\u001b[0m\u001b[0m\n\u001b[1;32m-> 3024\u001b[1;33m             \u001b[0mindexer\u001b[0m \u001b[1;33m=\u001b[0m \u001b[0mself\u001b[0m\u001b[1;33m.\u001b[0m\u001b[0mcolumns\u001b[0m\u001b[1;33m.\u001b[0m\u001b[0mget_loc\u001b[0m\u001b[1;33m(\u001b[0m\u001b[0mkey\u001b[0m\u001b[1;33m)\u001b[0m\u001b[1;33m\u001b[0m\u001b[1;33m\u001b[0m\u001b[0m\n\u001b[0m\u001b[0;32m   3025\u001b[0m             \u001b[1;32mif\u001b[0m \u001b[0mis_integer\u001b[0m\u001b[1;33m(\u001b[0m\u001b[0mindexer\u001b[0m\u001b[1;33m)\u001b[0m\u001b[1;33m:\u001b[0m\u001b[1;33m\u001b[0m\u001b[1;33m\u001b[0m\u001b[0m\n\u001b[0;32m   3026\u001b[0m                 \u001b[0mindexer\u001b[0m \u001b[1;33m=\u001b[0m \u001b[1;33m[\u001b[0m\u001b[0mindexer\u001b[0m\u001b[1;33m]\u001b[0m\u001b[1;33m\u001b[0m\u001b[1;33m\u001b[0m\u001b[0m\n",
      "\u001b[1;32m~\\anaconda3\\envs\\tf-gpu\\lib\\site-packages\\pandas\\core\\indexes\\base.py\u001b[0m in \u001b[0;36mget_loc\u001b[1;34m(self, key, method, tolerance)\u001b[0m\n\u001b[0;32m   3080\u001b[0m                 \u001b[1;32mreturn\u001b[0m \u001b[0mself\u001b[0m\u001b[1;33m.\u001b[0m\u001b[0m_engine\u001b[0m\u001b[1;33m.\u001b[0m\u001b[0mget_loc\u001b[0m\u001b[1;33m(\u001b[0m\u001b[0mcasted_key\u001b[0m\u001b[1;33m)\u001b[0m\u001b[1;33m\u001b[0m\u001b[1;33m\u001b[0m\u001b[0m\n\u001b[0;32m   3081\u001b[0m             \u001b[1;32mexcept\u001b[0m \u001b[0mKeyError\u001b[0m \u001b[1;32mas\u001b[0m \u001b[0merr\u001b[0m\u001b[1;33m:\u001b[0m\u001b[1;33m\u001b[0m\u001b[1;33m\u001b[0m\u001b[0m\n\u001b[1;32m-> 3082\u001b[1;33m                 \u001b[1;32mraise\u001b[0m \u001b[0mKeyError\u001b[0m\u001b[1;33m(\u001b[0m\u001b[0mkey\u001b[0m\u001b[1;33m)\u001b[0m \u001b[1;32mfrom\u001b[0m \u001b[0merr\u001b[0m\u001b[1;33m\u001b[0m\u001b[1;33m\u001b[0m\u001b[0m\n\u001b[0m\u001b[0;32m   3083\u001b[0m \u001b[1;33m\u001b[0m\u001b[0m\n\u001b[0;32m   3084\u001b[0m         \u001b[1;32mif\u001b[0m \u001b[0mtolerance\u001b[0m \u001b[1;32mis\u001b[0m \u001b[1;32mnot\u001b[0m \u001b[1;32mNone\u001b[0m\u001b[1;33m:\u001b[0m\u001b[1;33m\u001b[0m\u001b[1;33m\u001b[0m\u001b[0m\n",
      "\u001b[1;31mKeyError\u001b[0m: 0"
     ]
    }
   ],
   "source": [
    "type(df[0])"
   ]
  },
  {
   "cell_type": "code",
   "execution_count": null,
   "id": "defined-portfolio",
   "metadata": {},
   "outputs": [],
   "source": []
  }
 ],
 "metadata": {
  "kernelspec": {
   "display_name": "Python 3",
   "language": "python",
   "name": "python3"
  },
  "language_info": {
   "codemirror_mode": {
    "name": "ipython",
    "version": 3
   },
   "file_extension": ".py",
   "mimetype": "text/x-python",
   "name": "python",
   "nbconvert_exporter": "python",
   "pygments_lexer": "ipython3",
   "version": "3.8.8"
  }
 },
 "nbformat": 4,
 "nbformat_minor": 5
}
