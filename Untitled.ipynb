{
 "cells": [
  {
   "cell_type": "markdown",
   "id": "stone-jaguar",
   "metadata": {},
   "source": [
    "## Issues\n",
    "\n",
    "### Issues with Timestamp\n",
    "\n",
    "- 11:01:00 - 11:01:59: only the minute was recorded --> done\n",
    "- 14:20:01 - 14:40:30: the cell format is incorrect, only numerical values of a certain format are stored \n",
    "- 16:00:00 - 17:00:00: recorded in 12-hour format (e.g. 4:00:00 PM) --> DONE\n",
    "- 13:59:46: recorded twice --> done\n",
    "- 12:08:00 - 12:08:59: every other time stamp is missing --> \n",
    "\n",
    "### Issues with PVs\n",
    "\n",
    "- 12:11:01 - 12:16:06: the unit of PT102/OUT.CV changed from barg to mPa (1 barg ~~ 0.1 mPa)\n",
    "- 15:14:00 - 15:16:00: measurement error in FIC103/PID1/PV; FIC103/PID1/PV is different from FIC103/PID1/SP and FT103/OUT.CV.\n",
    "- Missing values scattered in the data: connectivity error, nan, empty cells; some values (e.g. missing value in FT104/OUT.CV can be infered from FIC104/PID1/PV)\n",
    "- Duplicated entries: \"PT101/OUT.CV\" at column E and \"Pressure measure\" at column Q"
   ]
  },
  {
   "cell_type": "code",
   "execution_count": 1,
   "id": "hairy-shade",
   "metadata": {},
   "outputs": [],
   "source": [
    "from pipeline.dataset import Dataset\n",
    "df_dirty = Dataset('data/real/00-complete/dirty_data.csv')"
   ]
  },
  {
   "cell_type": "code",
   "execution_count": 2,
   "id": "forbidden-gather",
   "metadata": {},
   "outputs": [
    {
     "data": {
      "text/plain": [
       "'%H:%M:%S'"
      ]
     },
     "execution_count": 2,
     "metadata": {},
     "output_type": "execute_result"
    }
   ],
   "source": [
    "df_dirty.infer_format()"
   ]
  },
  {
   "cell_type": "code",
   "execution_count": 3,
   "id": "czech-finder",
   "metadata": {},
   "outputs": [
    {
     "name": "stdout",
     "output_type": "stream",
     "text": [
      "%H:%M:%S\n"
     ]
    }
   ],
   "source": [
    "print(df_dirty.time_format)"
   ]
  },
  {
   "cell_type": "code",
   "execution_count": null,
   "id": "sufficient-customs",
   "metadata": {},
   "outputs": [],
   "source": [
    "df_dirty.apply_format()"
   ]
  },
  {
   "cell_type": "code",
   "execution_count": null,
   "id": "random-thompson",
   "metadata": {},
   "outputs": [],
   "source": [
    "df_dirty.clean_stamps()"
   ]
  },
  {
   "cell_type": "code",
   "execution_count": null,
   "id": "bright-vacuum",
   "metadata": {},
   "outputs": [],
   "source": [
    "import os\n",
    "cwd = os.getcwd()\n",
    "cwd"
   ]
  },
  {
   "cell_type": "code",
   "execution_count": null,
   "id": "hispanic-content",
   "metadata": {},
   "outputs": [],
   "source": [
    "df_dirty.to_csv(cwd+'/output.csv', index=False)\n",
    "#df_dirty.to_csv(cwd+'/output.csv')"
   ]
  },
  {
   "cell_type": "code",
   "execution_count": null,
   "id": "communist-monday",
   "metadata": {},
   "outputs": [],
   "source": []
  }
 ],
 "metadata": {
  "kernelspec": {
   "display_name": "Python 3",
   "language": "python",
   "name": "python3"
  },
  "language_info": {
   "codemirror_mode": {
    "name": "ipython",
    "version": 3
   },
   "file_extension": ".py",
   "mimetype": "text/x-python",
   "name": "python",
   "nbconvert_exporter": "python",
   "pygments_lexer": "ipython3",
   "version": "3.8.8"
  }
 },
 "nbformat": 4,
 "nbformat_minor": 5
}
