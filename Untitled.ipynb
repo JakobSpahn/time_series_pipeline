{
 "cells": [
  {
   "cell_type": "markdown",
   "id": "stone-jaguar",
   "metadata": {},
   "source": [
    "## Issues\n",
    "\n",
    "### Issues with Timestamp\n",
    "\n",
    "- 11:01:00 - 11:01:59: only the minute was recorded --> done\n",
    "- 14:20:01 - 14:40:30: the cell format is incorrect, only numerical values of a certain format are stored --> DONE\n",
    "- 16:00:00 - 17:00:00: recorded in 12-hour format (e.g. 4:00:00 PM) --> DONE\n",
    "- 13:59:46: recorded twice --> done\n",
    "- 12:08:00 - 12:08:59: every other time stamp is missing --> Done\n",
    "\n",
    "### Issues with PVs\n",
    "\n",
    "- 12:11:01 - 12:16:06: the unit of PT102/OUT.CV changed from barg to mPa (1 barg ~~ 0.1 mPa)\n",
    "- 15:14:00 - 15:16:00: measurement error in FIC103/PID1/PV; FIC103/PID1/PV is different from FIC103/PID1/SP and FT103/OUT.CV.\n",
    "- Missing values scattered in the data: connectivity error, nan, empty cells; some values (e.g. missing value in FT104/OUT.CV can be infered from FIC104/PID1/PV) --> Done using interpolation. Maybe come back to this one\n",
    "- Duplicated entries: \"PT101/OUT.CV\" at column E and \"Pressure measure\" at column Q --> DONE"
   ]
  },
  {
   "cell_type": "code",
   "execution_count": 2,
   "id": "temporal-criterion",
   "metadata": {},
   "outputs": [
    {
     "name": "stdout",
     "output_type": "stream",
     "text": [
      "['11:01:00' '0x0']\n",
      "Changing duplicate timestamp 11:01:00\n",
      "Changing duplicate timestamp 0x0\n",
      "Index already datetime\n",
      "0 days 00:00:01    25142\n",
      "0 days 00:00:02       29\n",
      "Name: Unnamed: 0, dtype: int64\n",
      "Median: 0 days 00:00:01\n",
      "29 rows were added due to resampling\n",
      "Converted column: 'FT101/OUT.CV' to numeric\n",
      "Converted column: 'FT102/OUT.CV' to numeric\n",
      "Converted column: 'TT101/OUT.CV' to numeric\n",
      "Converted column: 'PT101/OUT.CV' to numeric\n",
      "Converted column: 'FT103/OUT.CV' to numeric\n",
      "Converted column: 'FT104/OUT.CV' to numeric\n",
      "Converted column: 'TT102/OUT.CV' to numeric\n",
      "Converted column: 'FT104/AI2/OUT.CV' to numeric\n",
      "Converted column: 'PT102/OUT.CV' to numeric\n",
      "Converted column: 'Pressure measure' to numeric\n",
      "Before interpolation 405 rows contain nan values\n",
      "After interpolation 0 rows contain nan values\n"
     ]
    }
   ],
   "source": [
    "from pipeline.dataset import Dataset\n",
    "from pipeline.outlier import high_correlators\n",
    "df_dirty = Dataset('data/real/00-complete/dirty_data.csv')\n",
    "df_dirty.infer_format()\n",
    "df_dirty.apply_format()\n",
    "df_dirty.clean_stamps()\n",
    "df_dirty.time_as_index()\n",
    "df_dirty.resample()\n",
    "df_dirty.convert_na()\n",
    "df_dirty.interpolate()"
   ]
  },
  {
   "cell_type": "code",
   "execution_count": 34,
   "id": "union-capacity",
   "metadata": {},
   "outputs": [
    {
     "data": {
      "text/plain": [
       "False"
      ]
     },
     "execution_count": 34,
     "metadata": {},
     "output_type": "execute_result"
    }
   ],
   "source": [
    "import numpy as np\n",
    "comp = df_dirty.df['FT103/OUT.CV'].to_numpy()\n",
    "comp2 = df_dirty.df['FIC103/PID1/PV.CV'].to_numpy()\n",
    "np.array_equal(comp, comp2)"
   ]
  },
  {
   "cell_type": "code",
   "execution_count": 17,
   "id": "composite-cinema",
   "metadata": {},
   "outputs": [
    {
     "data": {
      "text/plain": [
       "2021-05-11 12:10:50    0.002002\n",
       "2021-05-11 12:10:51    0.002114\n",
       "2021-05-11 12:10:52    0.002227\n",
       "2021-05-11 12:10:53    0.002339\n",
       "2021-05-11 12:10:54    0.002451\n",
       "2021-05-11 12:10:55    0.002424\n",
       "2021-05-11 12:10:56    0.002397\n",
       "2021-05-11 12:10:57    0.002371\n",
       "2021-05-11 12:10:58    0.002344\n",
       "2021-05-11 12:10:59    0.002317\n",
       "2021-05-11 12:11:00    0.002291\n",
       "2021-05-11 12:11:01    0.002264\n",
       "2021-05-11 12:11:02    0.002237\n",
       "2021-05-11 12:11:03    0.002211\n",
       "2021-05-11 12:11:04    0.002184\n",
       "2021-05-11 12:11:05    0.002157\n",
       "2021-05-11 12:11:06    0.002131\n",
       "2021-05-11 12:11:07    0.002104\n",
       "2021-05-11 12:11:08    0.002077\n",
       "2021-05-11 12:11:09    0.002050\n",
       "2021-05-11 12:11:10    0.002024\n",
       "Name: FIC103/PID1/PV.CV, dtype: float64"
      ]
     },
     "execution_count": 17,
     "metadata": {},
     "output_type": "execute_result"
    }
   ],
   "source": [
    "#Querying\n",
    "col_name = 'FIC103/PID1/PV.CV'\n",
    "start_time = '12:10:50'\n",
    "end_time = '12:11:10'\n",
    "df_dirty.df[(df_dirty.df.index >= start_time) & (df_dirty.df.index <= end_time)][col_name]"
   ]
  },
  {
   "cell_type": "code",
   "execution_count": 18,
   "id": "senior-equality",
   "metadata": {},
   "outputs": [
    {
     "data": {
      "text/plain": [
       "2021-05-11 12:10:50    0.002002\n",
       "2021-05-11 12:10:51    0.002114\n",
       "2021-05-11 12:10:52    0.002227\n",
       "2021-05-11 12:10:53    0.002339\n",
       "2021-05-11 12:10:54    0.002451\n",
       "2021-05-11 12:10:55    0.002424\n",
       "2021-05-11 12:10:56    0.002397\n",
       "2021-05-11 12:10:57    0.002371\n",
       "2021-05-11 12:10:58    0.002344\n",
       "2021-05-11 12:10:59    0.002317\n",
       "2021-05-11 12:11:00    0.002291\n",
       "2021-05-11 12:11:01    0.002264\n",
       "2021-05-11 12:11:02    0.002237\n",
       "2021-05-11 12:11:03    0.002211\n",
       "2021-05-11 12:11:04    0.002184\n",
       "2021-05-11 12:11:05    0.002157\n",
       "2021-05-11 12:11:06    0.002131\n",
       "2021-05-11 12:11:07    0.002104\n",
       "2021-05-11 12:11:08    0.002077\n",
       "2021-05-11 12:11:09    0.002050\n",
       "2021-05-11 12:11:10    0.002024\n",
       "Name: FT103/OUT.CV, dtype: float64"
      ]
     },
     "execution_count": 18,
     "metadata": {},
     "output_type": "execute_result"
    }
   ],
   "source": [
    "#Querying\n",
    "col_name = 'FT103/OUT.CV'\n",
    "start_time = '12:10:50'\n",
    "end_time = '12:11:10'\n",
    "df_dirty.df[(df_dirty.df.index >= start_time) & (df_dirty.df.index <= end_time)][col_name]"
   ]
  },
  {
   "cell_type": "code",
   "execution_count": 15,
   "id": "complicated-replication",
   "metadata": {},
   "outputs": [
    {
     "name": "stdout",
     "output_type": "stream",
     "text": [
      "PT101/OUT.CV Pressure measure are equal\n",
      "FT103/OUT.CV FIC103/PID1/PV.CV are equal\n",
      "Column: 'Pressure measure' was dropped\n",
      "Column: 'FIC103/PID1/PV.CV' was dropped\n"
     ]
    }
   ],
   "source": [
    "df_dirty.drop_dup_cols()"
   ]
  },
  {
   "cell_type": "code",
   "execution_count": 19,
   "id": "looking-pitch",
   "metadata": {},
   "outputs": [
    {
     "data": {
      "text/html": [
       "<div>\n",
       "<style scoped>\n",
       "    .dataframe tbody tr th:only-of-type {\n",
       "        vertical-align: middle;\n",
       "    }\n",
       "\n",
       "    .dataframe tbody tr th {\n",
       "        vertical-align: top;\n",
       "    }\n",
       "\n",
       "    .dataframe thead th {\n",
       "        text-align: right;\n",
       "    }\n",
       "</style>\n",
       "<table border=\"1\" class=\"dataframe\">\n",
       "  <thead>\n",
       "    <tr style=\"text-align: right;\">\n",
       "      <th></th>\n",
       "      <th>FT101/OUT.CV</th>\n",
       "      <th>FT102/OUT.CV</th>\n",
       "      <th>TT101/OUT.CV</th>\n",
       "      <th>PT101/OUT.CV</th>\n",
       "      <th>FT103/OUT.CV</th>\n",
       "      <th>FT104/OUT.CV</th>\n",
       "      <th>TT102/OUT.CV</th>\n",
       "      <th>FT104/AI2/OUT.CV</th>\n",
       "      <th>PT102/OUT.CV</th>\n",
       "      <th>FIC103/PID1/OUT.CV</th>\n",
       "      <th>FIC103/PID1/SP.CV</th>\n",
       "      <th>FIC103/PID1/PV.CV</th>\n",
       "      <th>FIC104/PID1/OUT.CV</th>\n",
       "      <th>FIC104/PID1/SP.CV</th>\n",
       "      <th>FIC104/PID1/PV.CV</th>\n",
       "      <th>Pressure measure</th>\n",
       "    </tr>\n",
       "  </thead>\n",
       "  <tbody>\n",
       "    <tr>\n",
       "      <th>2021-05-11 10:00:00</th>\n",
       "      <td>99.547951</td>\n",
       "      <td>0.008761</td>\n",
       "      <td>18.372320</td>\n",
       "      <td>1.155875</td>\n",
       "      <td>0.003782</td>\n",
       "      <td>0.009572</td>\n",
       "      <td>19.138130</td>\n",
       "      <td>998.388672</td>\n",
       "      <td>1.129974</td>\n",
       "      <td>0.0</td>\n",
       "      <td>0.002739</td>\n",
       "      <td>0.003782</td>\n",
       "      <td>0.0</td>\n",
       "      <td>0.0</td>\n",
       "      <td>0.009572</td>\n",
       "      <td>1.155875</td>\n",
       "    </tr>\n",
       "    <tr>\n",
       "      <th>2021-05-11 10:00:01</th>\n",
       "      <td>99.428741</td>\n",
       "      <td>0.008641</td>\n",
       "      <td>18.373461</td>\n",
       "      <td>1.155437</td>\n",
       "      <td>0.003782</td>\n",
       "      <td>0.009573</td>\n",
       "      <td>19.138130</td>\n",
       "      <td>998.388611</td>\n",
       "      <td>1.129535</td>\n",
       "      <td>0.0</td>\n",
       "      <td>0.002595</td>\n",
       "      <td>0.003782</td>\n",
       "      <td>0.0</td>\n",
       "      <td>0.0</td>\n",
       "      <td>0.009573</td>\n",
       "      <td>1.155437</td>\n",
       "    </tr>\n",
       "    <tr>\n",
       "      <th>2021-05-11 10:00:02</th>\n",
       "      <td>99.466888</td>\n",
       "      <td>0.008521</td>\n",
       "      <td>18.374611</td>\n",
       "      <td>1.154999</td>\n",
       "      <td>0.003783</td>\n",
       "      <td>0.009573</td>\n",
       "      <td>19.138130</td>\n",
       "      <td>998.388489</td>\n",
       "      <td>1.129095</td>\n",
       "      <td>0.0</td>\n",
       "      <td>0.002451</td>\n",
       "      <td>0.003783</td>\n",
       "      <td>0.0</td>\n",
       "      <td>0.0</td>\n",
       "      <td>0.009573</td>\n",
       "      <td>1.154999</td>\n",
       "    </tr>\n",
       "    <tr>\n",
       "      <th>2021-05-11 10:00:03</th>\n",
       "      <td>99.409668</td>\n",
       "      <td>0.008401</td>\n",
       "      <td>18.375759</td>\n",
       "      <td>1.154631</td>\n",
       "      <td>0.003783</td>\n",
       "      <td>0.009573</td>\n",
       "      <td>19.138130</td>\n",
       "      <td>998.388489</td>\n",
       "      <td>1.128848</td>\n",
       "      <td>0.0</td>\n",
       "      <td>0.002451</td>\n",
       "      <td>0.003783</td>\n",
       "      <td>0.0</td>\n",
       "      <td>0.0</td>\n",
       "      <td>0.009573</td>\n",
       "      <td>1.154631</td>\n",
       "    </tr>\n",
       "    <tr>\n",
       "      <th>2021-05-11 10:00:04</th>\n",
       "      <td>99.295219</td>\n",
       "      <td>0.008281</td>\n",
       "      <td>18.376909</td>\n",
       "      <td>1.154263</td>\n",
       "      <td>0.003783</td>\n",
       "      <td>0.009573</td>\n",
       "      <td>19.273861</td>\n",
       "      <td>998.388489</td>\n",
       "      <td>1.128601</td>\n",
       "      <td>0.0</td>\n",
       "      <td>0.002451</td>\n",
       "      <td>0.003783</td>\n",
       "      <td>0.0</td>\n",
       "      <td>0.0</td>\n",
       "      <td>0.009573</td>\n",
       "      <td>1.154263</td>\n",
       "    </tr>\n",
       "    <tr>\n",
       "      <th>...</th>\n",
       "      <td>...</td>\n",
       "      <td>...</td>\n",
       "      <td>...</td>\n",
       "      <td>...</td>\n",
       "      <td>...</td>\n",
       "      <td>...</td>\n",
       "      <td>...</td>\n",
       "      <td>...</td>\n",
       "      <td>...</td>\n",
       "      <td>...</td>\n",
       "      <td>...</td>\n",
       "      <td>...</td>\n",
       "      <td>...</td>\n",
       "      <td>...</td>\n",
       "      <td>...</td>\n",
       "      <td>...</td>\n",
       "    </tr>\n",
       "    <tr>\n",
       "      <th>2021-05-11 16:59:56</th>\n",
       "      <td>2.252615</td>\n",
       "      <td>0.000140</td>\n",
       "      <td>20.911320</td>\n",
       "      <td>0.573384</td>\n",
       "      <td>0.000346</td>\n",
       "      <td>0.000208</td>\n",
       "      <td>24.160521</td>\n",
       "      <td>997.132385</td>\n",
       "      <td>0.607013</td>\n",
       "      <td>0.0</td>\n",
       "      <td>0.002451</td>\n",
       "      <td>0.000346</td>\n",
       "      <td>0.0</td>\n",
       "      <td>0.0</td>\n",
       "      <td>0.000208</td>\n",
       "      <td>0.573384</td>\n",
       "    </tr>\n",
       "    <tr>\n",
       "      <th>2021-05-11 16:59:57</th>\n",
       "      <td>2.181088</td>\n",
       "      <td>0.000139</td>\n",
       "      <td>20.911610</td>\n",
       "      <td>0.573393</td>\n",
       "      <td>0.000346</td>\n",
       "      <td>0.000208</td>\n",
       "      <td>24.160521</td>\n",
       "      <td>997.132629</td>\n",
       "      <td>0.607017</td>\n",
       "      <td>0.0</td>\n",
       "      <td>0.002451</td>\n",
       "      <td>0.000346</td>\n",
       "      <td>0.0</td>\n",
       "      <td>0.0</td>\n",
       "      <td>0.000208</td>\n",
       "      <td>0.573393</td>\n",
       "    </tr>\n",
       "    <tr>\n",
       "      <th>2021-05-11 16:59:58</th>\n",
       "      <td>2.193009</td>\n",
       "      <td>0.000138</td>\n",
       "      <td>20.911900</td>\n",
       "      <td>0.573402</td>\n",
       "      <td>0.000347</td>\n",
       "      <td>0.000208</td>\n",
       "      <td>24.160521</td>\n",
       "      <td>997.132812</td>\n",
       "      <td>0.607020</td>\n",
       "      <td>0.0</td>\n",
       "      <td>0.002451</td>\n",
       "      <td>0.000347</td>\n",
       "      <td>0.0</td>\n",
       "      <td>0.0</td>\n",
       "      <td>0.000208</td>\n",
       "      <td>0.573402</td>\n",
       "    </tr>\n",
       "    <tr>\n",
       "      <th>2021-05-11 16:59:59</th>\n",
       "      <td>2.204931</td>\n",
       "      <td>0.000138</td>\n",
       "      <td>20.912189</td>\n",
       "      <td>0.573410</td>\n",
       "      <td>0.000347</td>\n",
       "      <td>0.000209</td>\n",
       "      <td>24.160521</td>\n",
       "      <td>997.132996</td>\n",
       "      <td>0.607024</td>\n",
       "      <td>0.0</td>\n",
       "      <td>0.002451</td>\n",
       "      <td>0.000347</td>\n",
       "      <td>0.0</td>\n",
       "      <td>0.0</td>\n",
       "      <td>0.000208</td>\n",
       "      <td>0.573410</td>\n",
       "    </tr>\n",
       "    <tr>\n",
       "      <th>2021-05-11 17:00:00</th>\n",
       "      <td>2.276457</td>\n",
       "      <td>0.000137</td>\n",
       "      <td>20.912483</td>\n",
       "      <td>0.573419</td>\n",
       "      <td>0.000347</td>\n",
       "      <td>0.000209</td>\n",
       "      <td>24.286169</td>\n",
       "      <td>997.133179</td>\n",
       "      <td>0.607028</td>\n",
       "      <td>0.0</td>\n",
       "      <td>0.002451</td>\n",
       "      <td>0.000347</td>\n",
       "      <td>0.0</td>\n",
       "      <td>0.0</td>\n",
       "      <td>0.000209</td>\n",
       "      <td>0.573419</td>\n",
       "    </tr>\n",
       "  </tbody>\n",
       "</table>\n",
       "<p>25201 rows × 16 columns</p>\n",
       "</div>"
      ],
      "text/plain": [
       "                     FT101/OUT.CV  FT102/OUT.CV  TT101/OUT.CV  PT101/OUT.CV  \\\n",
       "2021-05-11 10:00:00     99.547951      0.008761     18.372320      1.155875   \n",
       "2021-05-11 10:00:01     99.428741      0.008641     18.373461      1.155437   \n",
       "2021-05-11 10:00:02     99.466888      0.008521     18.374611      1.154999   \n",
       "2021-05-11 10:00:03     99.409668      0.008401     18.375759      1.154631   \n",
       "2021-05-11 10:00:04     99.295219      0.008281     18.376909      1.154263   \n",
       "...                           ...           ...           ...           ...   \n",
       "2021-05-11 16:59:56      2.252615      0.000140     20.911320      0.573384   \n",
       "2021-05-11 16:59:57      2.181088      0.000139     20.911610      0.573393   \n",
       "2021-05-11 16:59:58      2.193009      0.000138     20.911900      0.573402   \n",
       "2021-05-11 16:59:59      2.204931      0.000138     20.912189      0.573410   \n",
       "2021-05-11 17:00:00      2.276457      0.000137     20.912483      0.573419   \n",
       "\n",
       "                     FT103/OUT.CV  FT104/OUT.CV  TT102/OUT.CV  \\\n",
       "2021-05-11 10:00:00      0.003782      0.009572     19.138130   \n",
       "2021-05-11 10:00:01      0.003782      0.009573     19.138130   \n",
       "2021-05-11 10:00:02      0.003783      0.009573     19.138130   \n",
       "2021-05-11 10:00:03      0.003783      0.009573     19.138130   \n",
       "2021-05-11 10:00:04      0.003783      0.009573     19.273861   \n",
       "...                           ...           ...           ...   \n",
       "2021-05-11 16:59:56      0.000346      0.000208     24.160521   \n",
       "2021-05-11 16:59:57      0.000346      0.000208     24.160521   \n",
       "2021-05-11 16:59:58      0.000347      0.000208     24.160521   \n",
       "2021-05-11 16:59:59      0.000347      0.000209     24.160521   \n",
       "2021-05-11 17:00:00      0.000347      0.000209     24.286169   \n",
       "\n",
       "                     FT104/AI2/OUT.CV  PT102/OUT.CV  FIC103/PID1/OUT.CV  \\\n",
       "2021-05-11 10:00:00        998.388672      1.129974                 0.0   \n",
       "2021-05-11 10:00:01        998.388611      1.129535                 0.0   \n",
       "2021-05-11 10:00:02        998.388489      1.129095                 0.0   \n",
       "2021-05-11 10:00:03        998.388489      1.128848                 0.0   \n",
       "2021-05-11 10:00:04        998.388489      1.128601                 0.0   \n",
       "...                               ...           ...                 ...   \n",
       "2021-05-11 16:59:56        997.132385      0.607013                 0.0   \n",
       "2021-05-11 16:59:57        997.132629      0.607017                 0.0   \n",
       "2021-05-11 16:59:58        997.132812      0.607020                 0.0   \n",
       "2021-05-11 16:59:59        997.132996      0.607024                 0.0   \n",
       "2021-05-11 17:00:00        997.133179      0.607028                 0.0   \n",
       "\n",
       "                     FIC103/PID1/SP.CV  FIC103/PID1/PV.CV  FIC104/PID1/OUT.CV  \\\n",
       "2021-05-11 10:00:00           0.002739           0.003782                 0.0   \n",
       "2021-05-11 10:00:01           0.002595           0.003782                 0.0   \n",
       "2021-05-11 10:00:02           0.002451           0.003783                 0.0   \n",
       "2021-05-11 10:00:03           0.002451           0.003783                 0.0   \n",
       "2021-05-11 10:00:04           0.002451           0.003783                 0.0   \n",
       "...                                ...                ...                 ...   \n",
       "2021-05-11 16:59:56           0.002451           0.000346                 0.0   \n",
       "2021-05-11 16:59:57           0.002451           0.000346                 0.0   \n",
       "2021-05-11 16:59:58           0.002451           0.000347                 0.0   \n",
       "2021-05-11 16:59:59           0.002451           0.000347                 0.0   \n",
       "2021-05-11 17:00:00           0.002451           0.000347                 0.0   \n",
       "\n",
       "                     FIC104/PID1/SP.CV  FIC104/PID1/PV.CV  Pressure measure  \n",
       "2021-05-11 10:00:00                0.0           0.009572          1.155875  \n",
       "2021-05-11 10:00:01                0.0           0.009573          1.155437  \n",
       "2021-05-11 10:00:02                0.0           0.009573          1.154999  \n",
       "2021-05-11 10:00:03                0.0           0.009573          1.154631  \n",
       "2021-05-11 10:00:04                0.0           0.009573          1.154263  \n",
       "...                                ...                ...               ...  \n",
       "2021-05-11 16:59:56                0.0           0.000208          0.573384  \n",
       "2021-05-11 16:59:57                0.0           0.000208          0.573393  \n",
       "2021-05-11 16:59:58                0.0           0.000208          0.573402  \n",
       "2021-05-11 16:59:59                0.0           0.000208          0.573410  \n",
       "2021-05-11 17:00:00                0.0           0.000209          0.573419  \n",
       "\n",
       "[25201 rows x 16 columns]"
      ]
     },
     "execution_count": 19,
     "metadata": {},
     "output_type": "execute_result"
    }
   ],
   "source": [
    "df_dirty.df"
   ]
  },
  {
   "cell_type": "code",
   "execution_count": 10,
   "id": "objective-discussion",
   "metadata": {},
   "outputs": [
    {
     "data": {
      "text/plain": [
       "{'FT101/OUT.CV': ['FIC104/PID1/OUT.CV'],\n",
       " 'PT101/OUT.CV': ['PT102/OUT.CV', 'FIC104/PID1/OUT.CV'],\n",
       " 'FT104/OUT.CV': ['FIC104/PID1/OUT.CV',\n",
       "  'FIC104/PID1/SP.CV',\n",
       "  'FIC104/PID1/PV.CV'],\n",
       " 'PT102/OUT.CV': ['PT101/OUT.CV'],\n",
       " 'FIC104/PID1/OUT.CV': ['FT101/OUT.CV',\n",
       "  'PT101/OUT.CV',\n",
       "  'FT104/OUT.CV',\n",
       "  'FIC104/PID1/SP.CV',\n",
       "  'FIC104/PID1/PV.CV'],\n",
       " 'FIC104/PID1/SP.CV': ['FT104/OUT.CV',\n",
       "  'FIC104/PID1/OUT.CV',\n",
       "  'FIC104/PID1/PV.CV'],\n",
       " 'FIC104/PID1/PV.CV': ['FT104/OUT.CV',\n",
       "  'FIC104/PID1/OUT.CV',\n",
       "  'FIC104/PID1/SP.CV']}"
      ]
     },
     "execution_count": 10,
     "metadata": {},
     "output_type": "execute_result"
    }
   ],
   "source": [
    "high_correlators(df_dirty.df, 0.7)"
   ]
  },
  {
   "cell_type": "code",
   "execution_count": 23,
   "id": "matched-warrant",
   "metadata": {
    "scrolled": false
   },
   "outputs": [
    {
     "data": {
      "image/png": "[encoded data removed]",
      "text/plain": [
       "<Figure size 432x288 with 1 Axes>"
      ]
     },
     "metadata": {
      "needs_background": "light"
     },
     "output_type": "display_data"
    }
   ],
   "source": [
    "df_dirty.show_multivariate_outliers('FT104/OUT.CV')\n",
    "df_dirty.clean_flagged_outliers('FT104/OUT.CV')"
   ]
  },
  {
   "cell_type": "code",
   "execution_count": 3,
   "id": "different-albany",
   "metadata": {},
   "outputs": [
    {
     "data": {
      "image/png": "[encoded data removed]",
      "text/plain": [
       "<Figure size 432x288 with 1 Axes>"
      ]
     },
     "metadata": {
      "needs_background": "light"
     },
     "output_type": "display_data"
    }
   ],
   "source": [
    "df_dirty.show_multivariate_outliers('FIC104/PID1/PV.CV')\n"
   ]
  },
  {
   "cell_type": "code",
   "execution_count": 4,
   "id": "incident-crawford",
   "metadata": {},
   "outputs": [
    {
     "name": "stdout",
     "output_type": "stream",
     "text": [
      "Cleaning the automatically flagged outliers\n",
      "Cleaning 2 outliers\n",
      "Before interpolation 208 rows contain nan values\n",
      "After interpolation 0 rows contain nan values\n"
     ]
    },
    {
     "data": {
      "image/png": "[encoded data removed]",
      "text/plain": [
       "<Figure size 432x288 with 1 Axes>"
      ]
     },
     "metadata": {
      "needs_background": "light"
     },
     "output_type": "display_data"
    }
   ],
   "source": [
    "df_dirty.clean_flagged_outliers('FIC104/PID1/PV.CV')"
   ]
  },
  {
   "cell_type": "code",
   "execution_count": 5,
   "id": "agricultural-owner",
   "metadata": {},
   "outputs": [
    {
     "data": {
      "image/png": "[encoded data removed]",
      "text/plain": [
       "<Figure size 432x288 with 1 Axes>"
      ]
     },
     "metadata": {
      "needs_background": "light"
     },
     "output_type": "display_data"
    }
   ],
   "source": [
    "df_dirty.show_univariate_outliers('PT102/OUT.CV')"
   ]
  },
  {
   "cell_type": "code",
   "execution_count": 6,
   "id": "pregnant-documentary",
   "metadata": {
    "scrolled": true
   },
   "outputs": [
    {
     "name": "stdout",
     "output_type": "stream",
     "text": [
      "Cleaning the automatically flagged outliers\n",
      "Cleaning 1 outliers\n",
      "Before interpolation 316 rows contain nan values\n",
      "After interpolation 0 rows contain nan values\n"
     ]
    },
    {
     "data": {
      "image/png": "[encoded data removed]",
      "text/plain": [
       "<Figure size 432x288 with 1 Axes>"
      ]
     },
     "metadata": {
      "needs_background": "light"
     },
     "output_type": "display_data"
    }
   ],
   "source": [
    "df_dirty.clean_flagged_outliers('PT102/OUT.CV')"
   ]
  },
  {
   "cell_type": "code",
   "execution_count": 7,
   "id": "photographic-globe",
   "metadata": {},
   "outputs": [
    {
     "data": {
      "image/png": "[encoded data removed]",
      "text/plain": [
       "<Figure size 432x288 with 1 Axes>"
      ]
     },
     "metadata": {
      "needs_background": "light"
     },
     "output_type": "display_data"
    }
   ],
   "source": [
    "df_dirty.show_univariate_outliers('PT102/OUT.CV')"
   ]
  },
  {
   "cell_type": "code",
   "execution_count": 7,
   "id": "covered-bundle",
   "metadata": {},
   "outputs": [],
   "source": [
    "import os\n",
    "cwd = os.getcwd()\n",
    "cwd\n",
    "df_dirty.to_csv(cwd+'/output.csv',index=True)"
   ]
  },
  {
   "cell_type": "code",
   "execution_count": 1,
   "id": "impressed-volleyball",
   "metadata": {},
   "outputs": [
    {
     "data": {
      "text/plain": [
       "1"
      ]
     },
     "execution_count": 1,
     "metadata": {},
     "output_type": "execute_result"
    }
   ],
   "source": [
    "columns = [1]\n",
    "columns[-1]"
   ]
  },
  {
   "cell_type": "code",
   "execution_count": null,
   "id": "animal-astronomy",
   "metadata": {},
   "outputs": [],
   "source": []
  }
 ],
 "metadata": {
  "kernelspec": {
   "display_name": "Python 3",
   "language": "python",
   "name": "python3"
  },
  "language_info": {
   "codemirror_mode": {
    "name": "ipython",
    "version": 3
   },
   "file_extension": ".py",
   "mimetype": "text/x-python",
   "name": "python",
   "nbconvert_exporter": "python",
   "pygments_lexer": "ipython3",
   "version": "3.8.8"
  }
 },
 "nbformat": 4,
 "nbformat_minor": 5
}
